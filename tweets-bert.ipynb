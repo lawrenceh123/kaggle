{
 "cells": [
  {
   "cell_type": "markdown",
   "metadata": {},
   "source": [
    "### Language Modeling With an RNN\n",
    "Data:<br>\n",
    "https://www.kaggle.com/competitions/nlp-getting-started\n",
    "\n",
    "### BERT model "
   ]
  },
  {
   "cell_type": "code",
   "execution_count": 1,
   "metadata": {
    "colab": {
     "base_uri": "https://localhost:8080/"
    },
    "id": "HQBhP2BHfWMm",
    "outputId": "9c152ac0-8c10-4185-ba59-c1abd81075d7"
   },
   "outputs": [
    {
     "name": "stdout",
     "output_type": "stream",
     "text": [
      "Collecting sentencepiece\n",
      "\u001b[?25l  Downloading https://files.pythonhosted.org/packages/f5/99/e0808cb947ba10f575839c43e8fafc9cc44e4a7a2c8f79c60db48220a577/sentencepiece-0.1.95-cp37-cp37m-manylinux2014_x86_64.whl (1.2MB)\n",
      "\u001b[K     |████████████████████████████████| 1.2MB 7.5MB/s \n",
      "\u001b[?25hInstalling collected packages: sentencepiece\n",
      "Successfully installed sentencepiece-0.1.95\n"
     ]
    }
   ],
   "source": [
    "import os\n",
    "import pandas as pd\n",
    "import numpy as np\n",
    "import tensorflow as tf\n",
    "import tensorflow_hub as hub\n",
    "# use official BERT tokenization script\n",
    "if not os.path.isfile('tokenization.py'):\n",
    "  !wget --quiet https://raw.githubusercontent.com/tensorflow/models/master/official/nlp/bert/tokenization.py\n",
    "!pip install sentencepiece\n",
    "import tokenization\n",
    "import matplotlib.pyplot as plt\n",
    "\n",
    "random_state = 123\n",
    "tf.random.set_seed(random_state)\n",
    "np.random.seed(random_state)\n",
    "model_type = 'BERT'"
   ]
  },
  {
   "cell_type": "code",
   "execution_count": 2,
   "metadata": {
    "id": "zU43PPHmm7ir"
   },
   "outputs": [],
   "source": [
    "# use sample code from tensorflow hub\n",
    "# model is called as follows on tokenized text input, \n",
    "# an input mask to hold out padding tokens, and segment types when input mixes with different segments\n",
    "max_seq_length = 128 \n",
    "input_word_ids = tf.keras.layers.Input(shape=(max_seq_length,), dtype=tf.int32,\n",
    "                                       name='input_word_ids')\n",
    "input_mask = tf.keras.layers.Input(shape=(max_seq_length,), dtype=tf.int32,\n",
    "                                   name='input_mask')\n",
    "segment_ids = tf.keras.layers.Input(shape=(max_seq_length,), dtype=tf.int32,\n",
    "                                    name='segment_ids')\n",
    "bert_layer = hub.KerasLayer('https://tfhub.dev/tensorflow/bert_en_uncased_L-24_H-1024_A-16/1',\n",
    "                            trainable=True)\n",
    "pooled_output, sequence_output = bert_layer([input_word_ids, input_mask, segment_ids])\n",
    "\n",
    "vocab_file = bert_layer.resolved_object.vocab_file.asset_path.numpy()\n",
    "do_lower_case = bert_layer.resolved_object.do_lower_case.numpy()\n",
    "tokenizer = tokenization.FullTokenizer(vocab_file, do_lower_case)"
   ]
  },
  {
   "cell_type": "code",
   "execution_count": 3,
   "metadata": {
    "id": "Ry479haQgUZM"
   },
   "outputs": [],
   "source": [
    "# helper function for BERT encoding using tokenizer\n",
    "# reference: https://medium.com/analytics-vidhya/bert-for-identifying-disasters-from-tweets-50eeb6844302\n",
    "def bert_encode(texts, tokenizer, max_len=512): # BERT max_len = 512\n",
    "    all_tokens = []\n",
    "    all_masks = []\n",
    "    all_segments = []\n",
    "    \n",
    "    for text in texts:\n",
    "        text = tokenizer.tokenize(text)\n",
    "            \n",
    "        text = text[:max_len-2]\n",
    "        input_sequence = [\"[CLS]\"] + text + [\"[SEP]\"]\n",
    "        pad_len = max_len - len(input_sequence)\n",
    "        \n",
    "        tokens = tokenizer.convert_tokens_to_ids(input_sequence)\n",
    "        tokens += [0] * pad_len\n",
    "        pad_masks = [1] * len(input_sequence) + [0] * pad_len\n",
    "        segment_ids = [0] * max_len\n",
    "        \n",
    "        all_tokens.append(tokens)\n",
    "        all_masks.append(pad_masks)\n",
    "        all_segments.append(segment_ids)\n",
    "\n",
    "    return np.array(all_tokens), np.array(all_masks), np.array(all_segments)"
   ]
  },
  {
   "cell_type": "code",
   "execution_count": 4,
   "metadata": {
    "id": "FGv5TmIDgZS2"
   },
   "outputs": [],
   "source": [
    "# load data\n",
    "train = pd.read_csv('drive/MyDrive/input/nlp-getting-started/train.csv')\n",
    "test = pd.read_csv('drive/MyDrive/input/nlp-getting-started/test.csv')\n",
    "sample_submission = pd.read_csv('drive/MyDrive/input/nlp-getting-started/sample_submission.csv')"
   ]
  },
  {
   "cell_type": "code",
   "execution_count": 5,
   "metadata": {
    "id": "7ygNqbqHhZj-"
   },
   "outputs": [],
   "source": [
    "# define X_train, y_train, X_test\n",
    "# encode with BERT tokenizer script\n",
    "X_train = bert_encode(train['text'].to_numpy(), tokenizer, max_len=max_seq_length)\n",
    "X_test = bert_encode(test['text'].to_numpy(), tokenizer, max_len=max_seq_length)\n",
    "y_train = train['target'].to_numpy()"
   ]
  },
  {
   "cell_type": "code",
   "execution_count": 6,
   "metadata": {
    "colab": {
     "base_uri": "https://localhost:8080/"
    },
    "id": "uk-vZrO-ha0c",
    "outputId": "d5c9a3eb-7414-4d6e-eefe-935c07007c18"
   },
   "outputs": [
    {
     "name": "stdout",
     "output_type": "stream",
     "text": [
      "Model: \"model\"\n",
      "__________________________________________________________________________________________________\n",
      "Layer (type)                    Output Shape         Param #     Connected to                     \n",
      "==================================================================================================\n",
      "input_word_ids (InputLayer)     [(None, 128)]        0                                            \n",
      "__________________________________________________________________________________________________\n",
      "input_mask (InputLayer)         [(None, 128)]        0                                            \n",
      "__________________________________________________________________________________________________\n",
      "segment_ids (InputLayer)        [(None, 128)]        0                                            \n",
      "__________________________________________________________________________________________________\n",
      "keras_layer (KerasLayer)        [(None, 1024), (None 335141889   input_word_ids[0][0]             \n",
      "                                                                 input_mask[0][0]                 \n",
      "                                                                 segment_ids[0][0]                \n",
      "__________________________________________________________________________________________________\n",
      "dense (Dense)                   (None, 1)            1025        keras_layer[0][0]                \n",
      "==================================================================================================\n",
      "Total params: 335,142,914\n",
      "Trainable params: 335,142,913\n",
      "Non-trainable params: 1\n",
      "__________________________________________________________________________________________________\n"
     ]
    }
   ],
   "source": [
    "# construct model\n",
    "out = tf.keras.layers.Dense(1, activation='sigmoid')(pooled_output)\n",
    "model = tf.keras.models.Model(inputs=[input_word_ids, input_mask, segment_ids], outputs=out)\n",
    "model.summary()"
   ]
  },
  {
   "cell_type": "code",
   "execution_count": 7,
   "metadata": {
    "colab": {
     "base_uri": "https://localhost:8080/"
    },
    "id": "cv70Y8JuDorD",
    "outputId": "dfa89331-2f30-45b6-e221-317f281bc4a8"
   },
   "outputs": [
    {
     "name": "stdout",
     "output_type": "stream",
     "text": [
      "Epoch 1/3\n",
      "381/381 [==============================] - 350s 847ms/step - loss: 0.5159 - accuracy: 0.7638 - val_loss: 0.3915 - val_accuracy: 0.8424\n",
      "\n",
      "Epoch 00001: val_loss improved from inf to 0.39149, saving model to model_BERT.h5\n",
      "Epoch 2/3\n",
      "381/381 [==============================] - 320s 841ms/step - loss: 0.2821 - accuracy: 0.9017 - val_loss: 0.3951 - val_accuracy: 0.8359\n",
      "\n",
      "Epoch 00002: ReduceLROnPlateau reducing learning rate to 1.9999999494757505e-06.\n",
      "\n",
      "Epoch 00002: val_loss did not improve from 0.39149\n",
      "Epoch 3/3\n",
      "381/381 [==============================] - 321s 842ms/step - loss: 0.1580 - accuracy: 0.9398 - val_loss: 0.4373 - val_accuracy: 0.8450\n",
      "\n",
      "Epoch 00003: ReduceLROnPlateau reducing learning rate to 3.999999989900971e-07.\n",
      "\n",
      "Epoch 00003: val_loss did not improve from 0.39149\n"
     ]
    }
   ],
   "source": [
    "# callbacks\n",
    "checkpoint = tf.keras.callbacks.ModelCheckpoint('model_'+model_type+'.h5', monitor='val_loss',\n",
    "                                                verbose=1, save_best_only=True)\n",
    "reduce_lr = tf.keras.callbacks.ReduceLROnPlateau(monitor='val_loss', factor=0.2, patience=1, \n",
    "                                                 verbose=1, min_lr=0)\n",
    "es = tf.keras.callbacks.EarlyStopping(monitor='val_loss', patience=3)\n",
    "\n",
    "# compile and fit\n",
    "model.compile(tf.keras.optimizers.Adam(lr=1e-5), loss='binary_crossentropy', metrics=['accuracy'])\n",
    "history = model.fit(x=X_train, y=y_train, batch_size=16, epochs=3, verbose=1,\n",
    "                    validation_split=0.2, \n",
    "                    # callbacks = [reduce_lr, es, checkpoint],\n",
    "                    callbacks = [reduce_lr, checkpoint]\n",
    "                    )"
   ]
  },
  {
   "cell_type": "code",
   "execution_count": 8,
   "metadata": {
    "colab": {
     "base_uri": "https://localhost:8080/",
     "height": 441
    },
    "id": "KrH7hXkxEP-t",
    "outputId": "9bf96786-7672-4aaf-a20b-3a44f1ca7dc2"
   },
   "outputs": [
    {
     "data": {
      "image/png": "[encoded data removed]",
      "text/plain": [
       "<Figure size 432x432 with 2 Axes>"
      ]
     },
     "metadata": {
      "needs_background": "light",
      "tags": []
     },
     "output_type": "display_data"
    }
   ],
   "source": [
    "# plot history\n",
    "df_plot = pd.DataFrame(history.history)\n",
    "fig, axs = plt.subplots(2,1, figsize=(6,6))\n",
    "axs[0].plot(df_plot.index+1, df_plot['loss'], '-o', lw=3, label='train')\n",
    "axs[0].plot(df_plot.index+1, df_plot['val_loss'], '-o', lw=3, label='val')\n",
    "axs[0].set(title='Model loss', ylabel='Loss')\n",
    "axs[1].plot(df_plot.index+1, df_plot['accuracy'], '-o', lw=3, label='train')\n",
    "axs[1].plot(df_plot.index+1, df_plot['val_accuracy'], '-o', lw=3, label='val')\n",
    "axs[1].set(title='Model accuracy', ylabel='Accuracy')\n",
    "axs[0].set_ylim([None, None])\n",
    "axs[1].set_ylim([None, None])\n",
    "for ax in axs:\n",
    "  ax.set_xlabel('Epoch')\n",
    "  ax.legend()\n",
    "fig.tight_layout()\n",
    "plt.show()\n",
    "fig.savefig('train_hist_'+model_type+'.pdf', format='pdf', bbox_inches='tight')"
   ]
  },
  {
   "cell_type": "code",
   "execution_count": 9,
   "metadata": {
    "colab": {
     "base_uri": "https://localhost:8080/"
    },
    "id": "_RCEx6JFESjP",
    "outputId": "87000932-8b8b-4685-c428-f5c7762d7128"
   },
   "outputs": [
    {
     "name": "stdout",
     "output_type": "stream",
     "text": [
      "238/238 [==============================] - 116s 486ms/step - loss: 0.3179 - accuracy: 0.8855\n"
     ]
    },
    {
     "data": {
      "text/plain": [
       "[0.3179369568824768, 0.8854590654373169]"
      ]
     },
     "execution_count": 9,
     "metadata": {
      "tags": []
     },
     "output_type": "execute_result"
    }
   ],
   "source": [
    "# reload best weights and evaluate model\n",
    "model.load_weights('model_'+model_type+'.h5')\n",
    "model.evaluate(X_train, y_train)"
   ]
  },
  {
   "cell_type": "code",
   "execution_count": 10,
   "metadata": {
    "colab": {
     "base_uri": "https://localhost:8080/",
     "height": 197
    },
    "id": "2LFhNIDuiEbd",
    "outputId": "9f6773ac-52c9-4fac-a3e8-10b7d06d3250"
   },
   "outputs": [
    {
     "data": {
      "text/html": [
       "<div>\n",
       "<style scoped>\n",
       "    .dataframe tbody tr th:only-of-type {\n",
       "        vertical-align: middle;\n",
       "    }\n",
       "\n",
       "    .dataframe tbody tr th {\n",
       "        vertical-align: top;\n",
       "    }\n",
       "\n",
       "    .dataframe thead th {\n",
       "        text-align: right;\n",
       "    }\n",
       "</style>\n",
       "<table border=\"1\" class=\"dataframe\">\n",
       "  <thead>\n",
       "    <tr style=\"text-align: right;\">\n",
       "      <th></th>\n",
       "      <th>id</th>\n",
       "      <th>target</th>\n",
       "    </tr>\n",
       "  </thead>\n",
       "  <tbody>\n",
       "    <tr>\n",
       "      <th>0</th>\n",
       "      <td>0</td>\n",
       "      <td>1</td>\n",
       "    </tr>\n",
       "    <tr>\n",
       "      <th>1</th>\n",
       "      <td>2</td>\n",
       "      <td>1</td>\n",
       "    </tr>\n",
       "    <tr>\n",
       "      <th>2</th>\n",
       "      <td>3</td>\n",
       "      <td>1</td>\n",
       "    </tr>\n",
       "    <tr>\n",
       "      <th>3</th>\n",
       "      <td>9</td>\n",
       "      <td>1</td>\n",
       "    </tr>\n",
       "    <tr>\n",
       "      <th>4</th>\n",
       "      <td>11</td>\n",
       "      <td>1</td>\n",
       "    </tr>\n",
       "  </tbody>\n",
       "</table>\n",
       "</div>"
      ],
      "text/plain": [
       "   id  target\n",
       "0   0       1\n",
       "1   2       1\n",
       "2   3       1\n",
       "3   9       1\n",
       "4  11       1"
      ]
     },
     "execution_count": 10,
     "metadata": {
      "tags": []
     },
     "output_type": "execute_result"
    }
   ],
   "source": [
    "# predict\n",
    "y_pred = model.predict(X_test)\n",
    "y_pred = (y_pred>=0.5).astype(int).flatten()\n",
    "# prep submission\n",
    "submission = sample_submission.copy()\n",
    "submission['target'] = y_pred\n",
    "submission.to_csv('submission_'+model_type+'.csv', index=False)\n",
    "submission.head()"
   ]
  }
 ],
 "metadata": {
  "accelerator": "GPU",
  "colab": {
   "collapsed_sections": [],
   "name": "mod8_bert.ipynb",
   "provenance": []
  },
  "kernelspec": {
   "display_name": "Python 3 (ipykernel)",
   "language": "python",
   "name": "python3"
  },
  "language_info": {
   "codemirror_mode": {
    "name": "ipython",
    "version": 3
   },
   "file_extension": ".py",
   "mimetype": "text/x-python",
   "name": "python",
   "nbconvert_exporter": "python",
   "pygments_lexer": "ipython3",
   "version": "3.8.12"
  }
 },
 "nbformat": 4,
 "nbformat_minor": 1
}
