{
 "cells": [
  {
   "cell_type": "markdown",
   "metadata": {},
   "source": [
    "### Language Modeling With an RNN\n",
    "Data:<br>\n",
    "https://www.kaggle.com/competitions/nlp-getting-started\n",
    "\n",
    "### LSTM model"
   ]
  },
  {
   "cell_type": "code",
   "execution_count": 1,
   "metadata": {
    "colab": {
     "base_uri": "https://localhost:8080/"
    },
    "id": "D1XfG-X7M4MX",
    "outputId": "68210877-93bd-4d2e-eac6-bdfe3b490233"
   },
   "outputs": [
    {
     "name": "stdout",
     "output_type": "stream",
     "text": [
      "[nltk_data] Downloading package punkt to /root/nltk_data...\n",
      "[nltk_data]   Package punkt is already up-to-date!\n"
     ]
    }
   ],
   "source": [
    "import os\n",
    "import numpy as np\n",
    "import pandas as pd\n",
    "import re\n",
    "import string\n",
    "import tensorflow as tf\n",
    "import nltk\n",
    "nltk.download('punkt')\n",
    "from nltk.tokenize import word_tokenize\n",
    "import matplotlib.pyplot as plt\n",
    "random_state = 42\n",
    "tf.random.set_seed(random_state)\n",
    "np.random.seed(random_state)\n",
    "\n",
    "# make labels consistent by majority voting and drop duplicates\n",
    "do_majority_vote_label = True\n",
    "# expand contractions\n",
    "do_expand_contractions = True\n",
    "# clean tweets\n",
    "do_clean_tweets = True\n",
    "\n",
    "# model type: 'SimpleRNN', 'LSTM', 'GRU'\n",
    "model_type = 'LSTM'"
   ]
  },
  {
   "cell_type": "code",
   "execution_count": 2,
   "metadata": {
    "id": "9kkfAKLnM_4R"
   },
   "outputs": [],
   "source": [
    "# load data\n",
    "train = pd.read_csv('drive/MyDrive/input/nlp-getting-started/train.csv')\n",
    "test = pd.read_csv('drive/MyDrive/input/nlp-getting-started/test.csv')\n",
    "sample_submission = pd.read_csv('drive/MyDrive/input/nlp-getting-started/sample_submission.csv')"
   ]
  },
  {
   "cell_type": "code",
   "execution_count": 3,
   "metadata": {
    "colab": {
     "base_uri": "https://localhost:8080/"
    },
    "id": "OXIAT00NnN-l",
    "outputId": "a1f974c4-60d8-4bdc-ba5c-14a45a82123b"
   },
   "outputs": [
    {
     "name": "stdout",
     "output_type": "stream",
     "text": [
      "18\n",
      "0\n",
      "True    22\n",
      "Name: mislabeled, dtype: int64\n"
     ]
    }
   ],
   "source": [
    "# relabel inconsistent tweets based on majority voting\n",
    "# then drop duplicates (keeping first)\n",
    "if do_majority_vote_label:\n",
    "  # check # of inconsistent labels\n",
    "  print(np.sum(train.groupby('text')['target'].nunique()>1)) \n",
    "  train['mislabeled'] = train.groupby('text')['target'].transform('nunique')>1\n",
    "  # majority vote\n",
    "  train['target_relabel'] = train.groupby('text')['target'].transform('mean')\n",
    "  train['target_relabel'] = train['target_relabel'].apply(lambda x: int(x>=0.5))\n",
    "  # check # of inconsistent labels after relabeling\n",
    "  print(np.sum(train.groupby('text')['target_relabel'].nunique()>1)) \n",
    "  # verified only mislabeled are changed\n",
    "  print(train[train['target']!=train['target_relabel']]['mislabeled'].value_counts()) \n",
    "  train.drop_duplicates(subset='text', keep='first', inplace=True)"
   ]
  },
  {
   "cell_type": "code",
   "execution_count": 4,
   "metadata": {
    "id": "eAa01SR90AvZ"
   },
   "outputs": [],
   "source": [
    "# expand contractions\n",
    "contractions = { \n",
    "\"ain't\": \"am not / are not / is not / has not / have not\",\n",
    "\"aren't\": \"are not / am not\",\n",
    "\"can't\": \"cannot\",\n",
    "\"can't've\": \"cannot have\",\n",
    "\"'cause\": \"because\",\n",
    "\"could've\": \"could have\",\n",
    "\"couldn't\": \"could not\",\n",
    "\"couldn't've\": \"could not have\",\n",
    "\"didn't\": \"did not\",\n",
    "\"doesn't\": \"does not\",\n",
    "\"don't\": \"do not\",\n",
    "\"hadn't\": \"had not\",\n",
    "\"hadn't've\": \"had not have\",\n",
    "\"hasn't\": \"has not\",\n",
    "\"haven't\": \"have not\",\n",
    "\"he'd\": \"he had / he would\",\n",
    "\"he'd've\": \"he would have\",\n",
    "\"he'll\": \"he shall / he will\",\n",
    "\"he'll've\": \"he shall have / he will have\",\n",
    "\"he's\": \"he has / he is\",\n",
    "\"how'd\": \"how did\",\n",
    "\"how'd'y\": \"how do you\",\n",
    "\"how'll\": \"how will\",\n",
    "\"how's\": \"how has / how is / how does\",\n",
    "\"I'd\": \"I had / I would\",\n",
    "\"I'd've\": \"I would have\",\n",
    "\"I'll\": \"I shall / I will\",\n",
    "\"I'll've\": \"I shall have / I will have\",\n",
    "\"I'm\": \"I am\",\n",
    "\"I've\": \"I have\",\n",
    "\"isn't\": \"is not\",\n",
    "\"it'd\": \"it had / it would\",\n",
    "\"it'd've\": \"it would have\",\n",
    "\"it'll\": \"it shall / it will\",\n",
    "\"it'll've\": \"it shall have / it will have\",\n",
    "\"it's\": \"it has / it is\",\n",
    "\"let's\": \"let us\",\n",
    "\"ma'am\": \"madam\",\n",
    "\"mayn't\": \"may not\",\n",
    "\"might've\": \"might have\",\n",
    "\"mightn't\": \"might not\",\n",
    "\"mightn't've\": \"might not have\",\n",
    "\"must've\": \"must have\",\n",
    "\"mustn't\": \"must not\",\n",
    "\"mustn't've\": \"must not have\",\n",
    "\"needn't\": \"need not\",\n",
    "\"needn't've\": \"need not have\",\n",
    "\"o'clock\": \"of the clock\",\n",
    "\"oughtn't\": \"ought not\",\n",
    "\"oughtn't've\": \"ought not have\",\n",
    "\"shan't\": \"shall not\",\n",
    "\"sha'n't\": \"shall not\",\n",
    "\"shan't've\": \"shall not have\",\n",
    "\"she'd\": \"she had / she would\",\n",
    "\"she'd've\": \"she would have\",\n",
    "\"she'll\": \"she shall / she will\",\n",
    "\"she'll've\": \"she shall have / she will have\",\n",
    "\"she's\": \"she has / she is\",\n",
    "\"should've\": \"should have\",\n",
    "\"shouldn't\": \"should not\",\n",
    "\"shouldn't've\": \"should not have\",\n",
    "\"so've\": \"so have\",\n",
    "\"so's\": \"so as / so is\",\n",
    "\"that'd\": \"that would / that had\",\n",
    "\"that'd've\": \"that would have\",\n",
    "\"that's\": \"that has / that is\",\n",
    "\"there'd\": \"there had / there would\",\n",
    "\"there'd've\": \"there would have\",\n",
    "\"there's\": \"there has / there is\",\n",
    "\"they'd\": \"they had / they would\",\n",
    "\"they'd've\": \"they would have\",\n",
    "\"they'll\": \"they shall / they will\",\n",
    "\"they'll've\": \"they shall have / they will have\",\n",
    "\"they're\": \"they are\",\n",
    "\"they've\": \"they have\",\n",
    "\"to've\": \"to have\",\n",
    "\"wasn't\": \"was not\",\n",
    "\"we'd\": \"we had / we would\",\n",
    "\"we'd've\": \"we would have\",\n",
    "\"we'll\": \"we will\",\n",
    "\"we'll've\": \"we will have\",\n",
    "\"we're\": \"we are\",\n",
    "\"we've\": \"we have\",\n",
    "\"weren't\": \"were not\",\n",
    "\"what'll\": \"what shall / what will\",\n",
    "\"what'll've\": \"what shall have / what will have\",\n",
    "\"what're\": \"what are\",\n",
    "\"what's\": \"what has / what is\",\n",
    "\"what've\": \"what have\",\n",
    "\"when's\": \"when has / when is\",\n",
    "\"when've\": \"when have\",\n",
    "\"where'd\": \"where did\",\n",
    "\"where's\": \"where has / where is\",\n",
    "\"where've\": \"where have\",\n",
    "\"who'll\": \"who shall / who will\",\n",
    "\"who'll've\": \"who shall have / who will have\",\n",
    "\"who's\": \"who has / who is\",\n",
    "\"who've\": \"who have\",\n",
    "\"why's\": \"why has / why is\",\n",
    "\"why've\": \"why have\",\n",
    "\"will've\": \"will have\",\n",
    "\"won't\": \"will not\",\n",
    "\"won't've\": \"will not have\",\n",
    "\"would've\": \"would have\",\n",
    "\"wouldn't\": \"would not\",\n",
    "\"wouldn't've\": \"would not have\",\n",
    "\"y'all\": \"you all\",\n",
    "\"y'all'd\": \"you all would\",\n",
    "\"y'all'd've\": \"you all would have\",\n",
    "\"y'all're\": \"you all are\",\n",
    "\"y'all've\": \"you all have\",\n",
    "\"you'd\": \"you had / you would\",\n",
    "\"you'd've\": \"you would have\",\n",
    "\"you'll\": \"you shall / you will\",\n",
    "\"you'll've\": \"you shall have / you will have\",\n",
    "\"you're\": \"you are\",\n",
    "\"you've\": \"you have\"\n",
    "}\n",
    "\n",
    "contractions_re = re.compile('(%s)' % '|'.join(contractions.keys()))\n",
    "def expand_contractions(s, contractions = contractions):\n",
    "    def replace(match):\n",
    "        return contractions[match.group(0)]\n",
    "    return contractions_re.sub(replace, s)\n",
    "\n",
    "if do_expand_contractions:\n",
    "  train['text'] = train['text'].apply(expand_contractions)\n",
    "  test['text'] = test['text'].apply(expand_contractions)"
   ]
  },
  {
   "cell_type": "code",
   "execution_count": 5,
   "metadata": {
    "id": "KVm7mQAUltC-"
   },
   "outputs": [],
   "source": [
    "# make text lowercase, remove text in square brackets, remove links, remove punctuation,\n",
    "# remove words containing numbers\n",
    "def clean_text(text):\n",
    "  text = text.lower()\n",
    "  text = re.sub('\\[.*?\\]', '', text)\n",
    "  text = re.sub('https?://\\S+|www\\.\\S+', '', text)\n",
    "  text = re.sub('<.*?>+', '', text)\n",
    "  text = re.sub('[%s]' % re.escape(string.punctuation), '', text)\n",
    "  text = re.sub('\\n', '', text)\n",
    "  text = re.sub('\\w*\\d\\w*', '', text)\n",
    "  return text\n",
    "\n",
    "# remove emojis\n",
    "def remove_emoji(text):\n",
    "  emoji_pattern = re.compile(\"[\"\n",
    "                          u\"\\U0001F600-\\U0001F64F\"  # emoticons\n",
    "                          u\"\\U0001F300-\\U0001F5FF\"  # symbols & pictographs\n",
    "                          u\"\\U0001F680-\\U0001F6FF\"  # transport & map symbols\n",
    "                          u\"\\U0001F1E0-\\U0001F1FF\"  # flags (iOS)\n",
    "                          u\"\\U00002702-\\U000027B0\"\n",
    "                          u\"\\U000024C2-\\U0001F251\"\n",
    "                          \"]+\", flags=re.UNICODE)\n",
    "  return emoji_pattern.sub(r'', text)\n",
    "\n",
    "if do_clean_tweets:\n",
    "  train['text'] = train['text'].apply(lambda x: clean_text(x))\n",
    "  test['text'] = test['text'].apply(lambda x: clean_text(x))\n",
    "  train['text']=train['text'].apply(lambda x: remove_emoji(x))\n",
    "  test['text']=test['text'].apply(lambda x: remove_emoji(x))"
   ]
  },
  {
   "cell_type": "code",
   "execution_count": 6,
   "metadata": {
    "colab": {
     "base_uri": "https://localhost:8080/",
     "height": 197
    },
    "id": "9YlQeNG-j3wG",
    "outputId": "630731e2-f0cc-405b-ccd1-632d82e346e5"
   },
   "outputs": [
    {
     "data": {
      "text/html": [
       "<div>\n",
       "<style scoped>\n",
       "    .dataframe tbody tr th:only-of-type {\n",
       "        vertical-align: middle;\n",
       "    }\n",
       "\n",
       "    .dataframe tbody tr th {\n",
       "        vertical-align: top;\n",
       "    }\n",
       "\n",
       "    .dataframe thead th {\n",
       "        text-align: right;\n",
       "    }\n",
       "</style>\n",
       "<table border=\"1\" class=\"dataframe\">\n",
       "  <thead>\n",
       "    <tr style=\"text-align: right;\">\n",
       "      <th></th>\n",
       "      <th>id</th>\n",
       "      <th>keyword</th>\n",
       "      <th>location</th>\n",
       "      <th>text</th>\n",
       "      <th>target</th>\n",
       "      <th>mislabeled</th>\n",
       "      <th>target_relabel</th>\n",
       "    </tr>\n",
       "  </thead>\n",
       "  <tbody>\n",
       "    <tr>\n",
       "      <th>0</th>\n",
       "      <td>1</td>\n",
       "      <td>NaN</td>\n",
       "      <td>NaN</td>\n",
       "      <td>our deeds are the reason of this earthquake ma...</td>\n",
       "      <td>1</td>\n",
       "      <td>False</td>\n",
       "      <td>1</td>\n",
       "    </tr>\n",
       "    <tr>\n",
       "      <th>1</th>\n",
       "      <td>4</td>\n",
       "      <td>NaN</td>\n",
       "      <td>NaN</td>\n",
       "      <td>forest fire near la ronge sask canada</td>\n",
       "      <td>1</td>\n",
       "      <td>False</td>\n",
       "      <td>1</td>\n",
       "    </tr>\n",
       "    <tr>\n",
       "      <th>2</th>\n",
       "      <td>5</td>\n",
       "      <td>NaN</td>\n",
       "      <td>NaN</td>\n",
       "      <td>all residents asked to shelter in place are be...</td>\n",
       "      <td>1</td>\n",
       "      <td>False</td>\n",
       "      <td>1</td>\n",
       "    </tr>\n",
       "    <tr>\n",
       "      <th>3</th>\n",
       "      <td>6</td>\n",
       "      <td>NaN</td>\n",
       "      <td>NaN</td>\n",
       "      <td>people receive wildfires evacuation orders in...</td>\n",
       "      <td>1</td>\n",
       "      <td>False</td>\n",
       "      <td>1</td>\n",
       "    </tr>\n",
       "    <tr>\n",
       "      <th>4</th>\n",
       "      <td>7</td>\n",
       "      <td>NaN</td>\n",
       "      <td>NaN</td>\n",
       "      <td>just got sent this photo from ruby alaska as s...</td>\n",
       "      <td>1</td>\n",
       "      <td>False</td>\n",
       "      <td>1</td>\n",
       "    </tr>\n",
       "  </tbody>\n",
       "</table>\n",
       "</div>"
      ],
      "text/plain": [
       "   id keyword location  ... target  mislabeled  target_relabel\n",
       "0   1     NaN      NaN  ...      1       False               1\n",
       "1   4     NaN      NaN  ...      1       False               1\n",
       "2   5     NaN      NaN  ...      1       False               1\n",
       "3   6     NaN      NaN  ...      1       False               1\n",
       "4   7     NaN      NaN  ...      1       False               1\n",
       "\n",
       "[5 rows x 7 columns]"
      ]
     },
     "execution_count": 6,
     "metadata": {
      "tags": []
     },
     "output_type": "execute_result"
    }
   ],
   "source": [
    "# data after cleaning, if applicable\n",
    "train.head()"
   ]
  },
  {
   "cell_type": "code",
   "execution_count": 7,
   "metadata": {
    "colab": {
     "base_uri": "https://localhost:8080/",
     "height": 197
    },
    "id": "-dtcRrApkDbL",
    "outputId": "51dc11a8-36ae-4864-8723-b513dae27ac4"
   },
   "outputs": [
    {
     "data": {
      "text/html": [
       "<div>\n",
       "<style scoped>\n",
       "    .dataframe tbody tr th:only-of-type {\n",
       "        vertical-align: middle;\n",
       "    }\n",
       "\n",
       "    .dataframe tbody tr th {\n",
       "        vertical-align: top;\n",
       "    }\n",
       "\n",
       "    .dataframe thead th {\n",
       "        text-align: right;\n",
       "    }\n",
       "</style>\n",
       "<table border=\"1\" class=\"dataframe\">\n",
       "  <thead>\n",
       "    <tr style=\"text-align: right;\">\n",
       "      <th></th>\n",
       "      <th>id</th>\n",
       "      <th>keyword</th>\n",
       "      <th>location</th>\n",
       "      <th>text</th>\n",
       "    </tr>\n",
       "  </thead>\n",
       "  <tbody>\n",
       "    <tr>\n",
       "      <th>0</th>\n",
       "      <td>0</td>\n",
       "      <td>NaN</td>\n",
       "      <td>NaN</td>\n",
       "      <td>just happened a terrible car crash</td>\n",
       "    </tr>\n",
       "    <tr>\n",
       "      <th>1</th>\n",
       "      <td>2</td>\n",
       "      <td>NaN</td>\n",
       "      <td>NaN</td>\n",
       "      <td>heard about earthquake is different cities sta...</td>\n",
       "    </tr>\n",
       "    <tr>\n",
       "      <th>2</th>\n",
       "      <td>3</td>\n",
       "      <td>NaN</td>\n",
       "      <td>NaN</td>\n",
       "      <td>there is a forest fire at spot pond geese are ...</td>\n",
       "    </tr>\n",
       "    <tr>\n",
       "      <th>3</th>\n",
       "      <td>9</td>\n",
       "      <td>NaN</td>\n",
       "      <td>NaN</td>\n",
       "      <td>apocalypse lighting spokane wildfires</td>\n",
       "    </tr>\n",
       "    <tr>\n",
       "      <th>4</th>\n",
       "      <td>11</td>\n",
       "      <td>NaN</td>\n",
       "      <td>NaN</td>\n",
       "      <td>typhoon soudelor kills  in china and taiwan</td>\n",
       "    </tr>\n",
       "  </tbody>\n",
       "</table>\n",
       "</div>"
      ],
      "text/plain": [
       "   id keyword location                                               text\n",
       "0   0     NaN      NaN                 just happened a terrible car crash\n",
       "1   2     NaN      NaN  heard about earthquake is different cities sta...\n",
       "2   3     NaN      NaN  there is a forest fire at spot pond geese are ...\n",
       "3   9     NaN      NaN              apocalypse lighting spokane wildfires\n",
       "4  11     NaN      NaN        typhoon soudelor kills  in china and taiwan"
      ]
     },
     "execution_count": 7,
     "metadata": {
      "tags": []
     },
     "output_type": "execute_result"
    }
   ],
   "source": [
    "test.head()"
   ]
  },
  {
   "cell_type": "code",
   "execution_count": 8,
   "metadata": {
    "colab": {
     "base_uri": "https://localhost:8080/"
    },
    "id": "4c9-uFa1lw6s",
    "outputId": "239a78ce-c6c4-4195-aa8e-85dcb983f371"
   },
   "outputs": [
    {
     "name": "stdout",
     "output_type": "stream",
     "text": [
      "labels:\n",
      "0    4302\n",
      "1    3201\n",
      "Name: target_relabel, dtype: int64\n",
      "\n",
      "X_train shape: (7503,) y_train shape: (7503,)\n",
      "X_test shape: (3263,)\n"
     ]
    }
   ],
   "source": [
    "# define X_train, y_train, X_test\n",
    "X_train = train['text'].to_numpy()\n",
    "print('labels:')\n",
    "if do_majority_vote_label:\n",
    "  y_train = train['target_relabel'].to_numpy()\n",
    "  print(train['target_relabel'].value_counts())\n",
    "else:\n",
    "  y_train = train['target'].to_numpy()\n",
    "  print(train['target'].value_counts())\n",
    "X_test = test['text'].to_numpy()\n",
    "print('\\nX_train shape:', X_train.shape, 'y_train shape:', y_train.shape)\n",
    "print('X_test shape:', X_test.shape)"
   ]
  },
  {
   "cell_type": "code",
   "execution_count": 9,
   "metadata": {
    "colab": {
     "base_uri": "https://localhost:8080/"
    },
    "id": "4aZbFv3aPtj1",
    "outputId": "357ba8b3-a286-4e2e-b019-ba376c91735e"
   },
   "outputs": [
    {
     "name": "stdout",
     "output_type": "stream",
     "text": [
      "vocab length: 21166\n"
     ]
    }
   ],
   "source": [
    "# use tokenizer to vectorize text corpus, turning text to sequence of int\n",
    "# 0 is reserved and not assigned \n",
    "# first, update internal vocabulary based on a list of texts\n",
    "tokenizer = tf.keras.preprocessing.text.Tokenizer(oov_token=True)\n",
    "tokenizer.fit_on_texts(list(X_train) + list(X_test))\n",
    "vocab_length = len(tokenizer.word_index)+1\n",
    "print('vocab length:', vocab_length)"
   ]
  },
  {
   "cell_type": "code",
   "execution_count": 10,
   "metadata": {
    "colab": {
     "base_uri": "https://localhost:8080/"
    },
    "id": "nNQO3pNVQCWJ",
    "outputId": "8fd15f60-aa68-4e4b-93ce-262e2206bbb4"
   },
   "outputs": [
    {
     "name": "stdout",
     "output_type": "stream",
     "text": [
      "maxlen of tokenized X_train: 40\n",
      "X_train_padded shape: (7503, 40)\n",
      "X_test_padded shape: (3263, 40)\n"
     ]
    }
   ],
   "source": [
    "# find max number of tokens\n",
    "X_train_maxlen = max(X_train, key=lambda x: len(word_tokenize(x)))\n",
    "X_train_maxlen = len(word_tokenize(X_train_maxlen))\n",
    "print('maxlen of tokenized X_train:', X_train_maxlen)\n",
    "# transform text to a sequence of integers then pad to max length\n",
    "X_train_padded = tf.keras.preprocessing.sequence.pad_sequences(\n",
    "    sequences=tokenizer.texts_to_sequences(X_train),\n",
    "    maxlen=X_train_maxlen, dtype='int32', padding='post',)\n",
    "X_test_padded = tf.keras.preprocessing.sequence.pad_sequences(\n",
    "    sequences=tokenizer.texts_to_sequences(X_test),\n",
    "    maxlen=X_train_maxlen, dtype='int32', padding='post',)\n",
    "print('X_train_padded shape:', X_train_padded.shape)\n",
    "print('X_test_padded shape:', X_test_padded.shape)"
   ]
  },
  {
   "cell_type": "code",
   "execution_count": 11,
   "metadata": {
    "colab": {
     "base_uri": "https://localhost:8080/"
    },
    "id": "iRwTaj9IW_dl",
    "outputId": "2bf334a1-48a2-4ef0-a0b2-75da98325dca"
   },
   "outputs": [
    {
     "name": "stdout",
     "output_type": "stream",
     "text": [
      "400000 word vectors in the GloVe library\n"
     ]
    }
   ],
   "source": [
    "# GloVe word vectors trained on Wikipedia, 100d version\n",
    "embeddings_index = {}\n",
    "glove_fn = 'glove.6B.100d.txt'\n",
    "with open(os.path.join('drive/MyDrive/input/glove/', glove_fn), 'r') as f:\n",
    "  for line in f:\n",
    "    values = line.split()\n",
    "    word = values[0]\n",
    "    coefs = np.asarray(values[1:], dtype='float32')\n",
    "    embeddings_index[word] = coefs\n",
    "print(f'{len(embeddings_index)} word vectors in the GloVe library')"
   ]
  },
  {
   "cell_type": "code",
   "execution_count": 12,
   "metadata": {
    "colab": {
     "base_uri": "https://localhost:8080/"
    },
    "id": "39PvsK9ANMQA",
    "outputId": "a8ba1096-1580-4c1e-9400-118af31701fe"
   },
   "outputs": [
    {
     "name": "stdout",
     "output_type": "stream",
     "text": [
      "embedding matrix shape: (21166, 100)\n"
     ]
    }
   ],
   "source": [
    "# get embedding matrix\n",
    "embedding_dim = int(glove_fn.split('6B.')[1].split('d')[0])\n",
    "# initialize with zeros\n",
    "embedding_matrix = np.zeros((vocab_length, embedding_dim))\n",
    "# update embedding matrix: \n",
    "# store glove word vector representation in embedding matrix if word is in embedding index\n",
    "for word, index in tokenizer.word_index.items():\n",
    "    embedding_vector = embeddings_index.get(word)\n",
    "    if embedding_vector is not None: # words not found in embedding index will be zeros\n",
    "        embedding_matrix[index] = embedding_vector\n",
    "print('embedding matrix shape:', embedding_matrix.shape)"
   ]
  },
  {
   "cell_type": "code",
   "execution_count": 13,
   "metadata": {
    "colab": {
     "base_uri": "https://localhost:8080/"
    },
    "id": "bAGnA-1dNNuA",
    "outputId": "6900b8a8-18b4-4697-d7de-5b54099f05f4"
   },
   "outputs": [
    {
     "name": "stdout",
     "output_type": "stream",
     "text": [
      "Model: \"sequential\"\n",
      "_________________________________________________________________\n",
      "Layer (type)                 Output Shape              Param #   \n",
      "=================================================================\n",
      "embedding (Embedding)        (None, 40, 100)           2116600   \n",
      "_________________________________________________________________\n",
      "bidirectional (Bidirectional (None, 40, 80)            45120     \n",
      "_________________________________________________________________\n",
      "global_max_pooling1d (Global (None, 80)                0         \n",
      "_________________________________________________________________\n",
      "batch_normalization (BatchNo (None, 80)                320       \n",
      "_________________________________________________________________\n",
      "dropout (Dropout)            (None, 80)                0         \n",
      "_________________________________________________________________\n",
      "dense (Dense)                (None, 40)                3240      \n",
      "_________________________________________________________________\n",
      "dropout_1 (Dropout)          (None, 40)                0         \n",
      "_________________________________________________________________\n",
      "dense_1 (Dense)              (None, 40)                1640      \n",
      "_________________________________________________________________\n",
      "dropout_2 (Dropout)          (None, 40)                0         \n",
      "_________________________________________________________________\n",
      "dense_2 (Dense)              (None, 1)                 41        \n",
      "=================================================================\n",
      "Total params: 2,166,961\n",
      "Trainable params: 2,166,801\n",
      "Non-trainable params: 160\n",
      "_________________________________________________________________\n"
     ]
    }
   ],
   "source": [
    "# use GloVe embedding as embedding layer in model\n",
    "# construct LSTM model\n",
    "if model_type=='LSTM':\n",
    "  model = tf.keras.models.Sequential([\n",
    "    tf.keras.layers.Embedding(input_dim=embedding_matrix.shape[0], output_dim=embedding_matrix.shape[1],\n",
    "                              weights=[embedding_matrix], input_length=X_train_maxlen),\n",
    "    tf.keras.layers.Bidirectional(tf.keras.layers.LSTM(units=X_train_maxlen, \n",
    "                                                      recurrent_dropout=0.2, return_sequences=True)),\n",
    "    tf.keras.layers.GlobalMaxPool1D(),\n",
    "    tf.keras.layers.BatchNormalization(),\n",
    "    tf.keras.layers.Dropout(0.5),\n",
    "    tf.keras.layers.Dense(units=X_train_maxlen, activation='relu'),\n",
    "    tf.keras.layers.Dropout(0.5),\n",
    "    tf.keras.layers.Dense(units=X_train_maxlen, activation='relu'),\n",
    "    tf.keras.layers.Dropout(0.5),\n",
    "    tf.keras.layers.Dense(units=1, activation='sigmoid'),                                    \n",
    "  ])\n",
    "\n",
    "# construct GRU model\n",
    "elif model_type=='GRU':\n",
    "  model = tf.keras.models.Sequential([\n",
    "    tf.keras.layers.Embedding(input_dim=embedding_matrix.shape[0], output_dim=embedding_matrix.shape[1],\n",
    "                              weights=[embedding_matrix], input_length=X_train_maxlen),\n",
    "    tf.keras.layers.Bidirectional(tf.keras.layers.GRU(units=X_train_maxlen, \n",
    "                                                      recurrent_dropout=0.2, return_sequences=True)),\n",
    "    tf.keras.layers.GlobalMaxPool1D(),\n",
    "    tf.keras.layers.BatchNormalization(),\n",
    "    tf.keras.layers.Dropout(0.5),\n",
    "    tf.keras.layers.Dense(units=X_train_maxlen, activation='relu'),\n",
    "    tf.keras.layers.Dropout(0.5),\n",
    "    tf.keras.layers.Dense(units=X_train_maxlen, activation='relu'),\n",
    "    tf.keras.layers.Dropout(0.5),\n",
    "    tf.keras.layers.Dense(units=1, activation='sigmoid'),                                    \n",
    "  ])\n",
    "\n",
    "# construct SimpleRNN model\n",
    "elif model_type=='SimpleRNN':\n",
    "\n",
    "  model = tf.keras.models.Sequential([\n",
    "    tf.keras.layers.Embedding(input_dim=embedding_matrix.shape[0], output_dim=embedding_matrix.shape[1],\n",
    "                              weights=[embedding_matrix], input_length=X_train_maxlen),\n",
    "    tf.keras.layers.Bidirectional(tf.keras.layers.SimpleRNN(units=X_train_maxlen, \n",
    "                                                      recurrent_dropout=0.2, return_sequences=True)),\n",
    "    tf.keras.layers.GlobalMaxPool1D(),\n",
    "    tf.keras.layers.BatchNormalization(),\n",
    "    tf.keras.layers.Dropout(0.5),\n",
    "    tf.keras.layers.Dense(units=X_train_maxlen, activation='relu'),\n",
    "    tf.keras.layers.Dropout(0.5),\n",
    "    tf.keras.layers.Dense(units=X_train_maxlen, activation='relu'),\n",
    "    tf.keras.layers.Dropout(0.5),\n",
    "    tf.keras.layers.Dense(units=1, activation='sigmoid'),                                    \n",
    "  ])\n",
    "\n",
    "model.summary()"
   ]
  },
  {
   "cell_type": "code",
   "execution_count": 14,
   "metadata": {
    "colab": {
     "base_uri": "https://localhost:8080/"
    },
    "id": "wtcnbU_FNPbw",
    "outputId": "1673dfb7-12d5-4341-bdf7-8456a1d19f06"
   },
   "outputs": [
    {
     "name": "stdout",
     "output_type": "stream",
     "text": [
      "Epoch 1/50\n",
      "188/188 - 14s - loss: 0.7061 - accuracy: 0.6345 - val_loss: 0.5866 - val_accuracy: 0.7768\n",
      "\n",
      "Epoch 00001: val_loss improved from inf to 0.58663, saving model to model_LSTM.h5\n",
      "Epoch 2/50\n",
      "188/188 - 9s - loss: 0.5536 - accuracy: 0.7394 - val_loss: 0.4902 - val_accuracy: 0.7855\n",
      "\n",
      "Epoch 00002: val_loss improved from 0.58663 to 0.49025, saving model to model_LSTM.h5\n",
      "Epoch 3/50\n",
      "188/188 - 9s - loss: 0.4992 - accuracy: 0.7822 - val_loss: 0.4441 - val_accuracy: 0.8108\n",
      "\n",
      "Epoch 00003: val_loss improved from 0.49025 to 0.44411, saving model to model_LSTM.h5\n",
      "Epoch 4/50\n",
      "188/188 - 9s - loss: 0.4572 - accuracy: 0.8046 - val_loss: 0.4479 - val_accuracy: 0.8081\n",
      "\n",
      "Epoch 00004: val_loss did not improve from 0.44411\n",
      "Epoch 5/50\n",
      "188/188 - 9s - loss: 0.4295 - accuracy: 0.8276 - val_loss: 0.4194 - val_accuracy: 0.8108\n",
      "\n",
      "Epoch 00005: val_loss improved from 0.44411 to 0.41941, saving model to model_LSTM.h5\n",
      "Epoch 6/50\n",
      "188/188 - 9s - loss: 0.4052 - accuracy: 0.8341 - val_loss: 0.4330 - val_accuracy: 0.8061\n",
      "\n",
      "Epoch 00006: val_loss did not improve from 0.41941\n",
      "Epoch 7/50\n",
      "188/188 - 9s - loss: 0.3913 - accuracy: 0.8479 - val_loss: 0.4221 - val_accuracy: 0.8095\n",
      "\n",
      "Epoch 00007: ReduceLROnPlateau reducing learning rate to 0.00020000000949949026.\n",
      "\n",
      "Epoch 00007: val_loss did not improve from 0.41941\n",
      "Epoch 8/50\n",
      "188/188 - 9s - loss: 0.3569 - accuracy: 0.8612 - val_loss: 0.4180 - val_accuracy: 0.8081\n",
      "\n",
      "Epoch 00008: val_loss improved from 0.41941 to 0.41802, saving model to model_LSTM.h5\n",
      "Epoch 9/50\n",
      "188/188 - 9s - loss: 0.3507 - accuracy: 0.8635 - val_loss: 0.4265 - val_accuracy: 0.8108\n",
      "\n",
      "Epoch 00009: val_loss did not improve from 0.41802\n",
      "Epoch 10/50\n",
      "188/188 - 9s - loss: 0.3368 - accuracy: 0.8687 - val_loss: 0.4311 - val_accuracy: 0.8075\n",
      "\n",
      "Epoch 00010: ReduceLROnPlateau reducing learning rate to 4.0000001899898055e-05.\n",
      "\n",
      "Epoch 00010: val_loss did not improve from 0.41802\n",
      "Epoch 11/50\n",
      "188/188 - 9s - loss: 0.3311 - accuracy: 0.8710 - val_loss: 0.4332 - val_accuracy: 0.8095\n",
      "\n",
      "Epoch 00011: val_loss did not improve from 0.41802\n",
      "Epoch 12/50\n",
      "188/188 - 9s - loss: 0.3316 - accuracy: 0.8684 - val_loss: 0.4348 - val_accuracy: 0.8081\n",
      "\n",
      "Epoch 00012: ReduceLROnPlateau reducing learning rate to 8.000000525498762e-06.\n",
      "\n",
      "Epoch 00012: val_loss did not improve from 0.41802\n",
      "Epoch 13/50\n",
      "188/188 - 9s - loss: 0.3346 - accuracy: 0.8747 - val_loss: 0.4349 - val_accuracy: 0.8075\n",
      "\n",
      "Epoch 00013: val_loss did not improve from 0.41802\n"
     ]
    }
   ],
   "source": [
    "# callbacks\n",
    "checkpoint = tf.keras.callbacks.ModelCheckpoint('model_'+model_type+'.h5', monitor='val_loss',\n",
    "                                                verbose=1, save_best_only=True)\n",
    "reduce_lr = tf.keras.callbacks.ReduceLROnPlateau(monitor='val_loss', factor=0.2, patience=2, \n",
    "                                                 verbose=1, min_lr=0)\n",
    "es = tf.keras.callbacks.EarlyStopping(monitor='val_loss', patience=5)\n",
    "\n",
    "# compile and fit\n",
    "model.compile(optimizer='rmsprop', loss='binary_crossentropy', metrics=['accuracy'])\n",
    "history = model.fit(x=X_train_padded, y=y_train, batch_size=None, epochs=50, verbose=2,\n",
    "                    validation_split=0.2, callbacks = [reduce_lr, es, checkpoint])"
   ]
  },
  {
   "cell_type": "code",
   "execution_count": 15,
   "metadata": {
    "colab": {
     "base_uri": "https://localhost:8080/",
     "height": 441
    },
    "id": "kV-yNFlYWyhI",
    "outputId": "2a52e25f-1181-471b-bac2-4f33b289eee5"
   },
   "outputs": [
    {
     "data": {
      "image/png": "[encoded data removed]",
      "text/plain": [
       "<Figure size 432x432 with 2 Axes>"
      ]
     },
     "metadata": {
      "needs_background": "light",
      "tags": []
     },
     "output_type": "display_data"
    }
   ],
   "source": [
    "# plot history\n",
    "df_plot = pd.DataFrame(history.history)\n",
    "fig, axs = plt.subplots(2,1, figsize=(6,6))\n",
    "axs[0].plot(df_plot.index+1, df_plot['loss'], '-o', lw=3, label='train')\n",
    "axs[0].plot(df_plot.index+1, df_plot['val_loss'], '-o', lw=3, label='val')\n",
    "axs[0].set(title='Model loss', ylabel='Loss')\n",
    "axs[1].plot(df_plot.index+1, df_plot['accuracy'], '-o', lw=3, label='train')\n",
    "axs[1].plot(df_plot.index+1, df_plot['val_accuracy'], '-o', lw=3, label='val')\n",
    "axs[1].set(title='Model accuracy', ylabel='Accuracy')\n",
    "axs[0].set_ylim([None, None])\n",
    "axs[1].set_ylim([None, None])\n",
    "for ax in axs:\n",
    "  ax.set_xlabel('Epoch')\n",
    "  ax.legend()\n",
    "fig.tight_layout()\n",
    "plt.show()\n",
    "fig.savefig('train_hist_'+model_type+'.pdf', format='pdf', bbox_inches='tight')"
   ]
  },
  {
   "cell_type": "code",
   "execution_count": 16,
   "metadata": {
    "colab": {
     "base_uri": "https://localhost:8080/"
    },
    "id": "RztkziIYNTS2",
    "outputId": "86b45200-0ac7-4014-e3f6-261bae2cb904"
   },
   "outputs": [
    {
     "name": "stdout",
     "output_type": "stream",
     "text": [
      "235/235 [==============================] - 2s 9ms/step - loss: 0.3164 - accuracy: 0.8666\n"
     ]
    },
    {
     "data": {
      "text/plain": [
       "[0.3163630962371826, 0.8665866851806641]"
      ]
     },
     "execution_count": 16,
     "metadata": {
      "tags": []
     },
     "output_type": "execute_result"
    }
   ],
   "source": [
    "# reload best weights and evaluate model\n",
    "model.load_weights('model_'+model_type+'.h5')\n",
    "model.evaluate(X_train_padded, y_train)"
   ]
  },
  {
   "cell_type": "code",
   "execution_count": 17,
   "metadata": {
    "colab": {
     "base_uri": "https://localhost:8080/",
     "height": 197
    },
    "id": "gNl-ilNKNTqw",
    "outputId": "17f06680-21de-4e15-ad3c-7dbc2d64fa49"
   },
   "outputs": [
    {
     "data": {
      "text/html": [
       "<div>\n",
       "<style scoped>\n",
       "    .dataframe tbody tr th:only-of-type {\n",
       "        vertical-align: middle;\n",
       "    }\n",
       "\n",
       "    .dataframe tbody tr th {\n",
       "        vertical-align: top;\n",
       "    }\n",
       "\n",
       "    .dataframe thead th {\n",
       "        text-align: right;\n",
       "    }\n",
       "</style>\n",
       "<table border=\"1\" class=\"dataframe\">\n",
       "  <thead>\n",
       "    <tr style=\"text-align: right;\">\n",
       "      <th></th>\n",
       "      <th>id</th>\n",
       "      <th>target</th>\n",
       "    </tr>\n",
       "  </thead>\n",
       "  <tbody>\n",
       "    <tr>\n",
       "      <th>0</th>\n",
       "      <td>0</td>\n",
       "      <td>1</td>\n",
       "    </tr>\n",
       "    <tr>\n",
       "      <th>1</th>\n",
       "      <td>2</td>\n",
       "      <td>1</td>\n",
       "    </tr>\n",
       "    <tr>\n",
       "      <th>2</th>\n",
       "      <td>3</td>\n",
       "      <td>1</td>\n",
       "    </tr>\n",
       "    <tr>\n",
       "      <th>3</th>\n",
       "      <td>9</td>\n",
       "      <td>1</td>\n",
       "    </tr>\n",
       "    <tr>\n",
       "      <th>4</th>\n",
       "      <td>11</td>\n",
       "      <td>1</td>\n",
       "    </tr>\n",
       "  </tbody>\n",
       "</table>\n",
       "</div>"
      ],
      "text/plain": [
       "   id  target\n",
       "0   0       1\n",
       "1   2       1\n",
       "2   3       1\n",
       "3   9       1\n",
       "4  11       1"
      ]
     },
     "execution_count": 17,
     "metadata": {
      "tags": []
     },
     "output_type": "execute_result"
    }
   ],
   "source": [
    "# predict\n",
    "y_pred = model.predict(X_test_padded)\n",
    "y_pred = (y_pred>=0.5).astype(int).flatten()\n",
    "# prep submission\n",
    "submission = sample_submission.copy()\n",
    "submission['target'] = y_pred\n",
    "submission.to_csv('submission_'+model_type+'.csv', index=False)\n",
    "submission.head()"
   ]
  }
 ],
 "metadata": {
  "colab": {
   "collapsed_sections": [],
   "name": "mod8_rnn.ipynb",
   "provenance": []
  },
  "kernelspec": {
   "display_name": "Python 3 (ipykernel)",
   "language": "python",
   "name": "python3"
  },
  "language_info": {
   "codemirror_mode": {
    "name": "ipython",
    "version": 3
   },
   "file_extension": ".py",
   "mimetype": "text/x-python",
   "name": "python",
   "nbconvert_exporter": "python",
   "pygments_lexer": "ipython3",
   "version": "3.8.12"
  }
 },
 "nbformat": 4,
 "nbformat_minor": 1
}
