{
 "cells": [
  {
   "cell_type": "markdown",
   "metadata": {},
   "source": [
    "### Multiclass classification models using neural networks\n",
    "Data:<br>https://www.kaggle.com/competitions/Kannada-MNIST\n",
    "\n",
    "### Autoencoder + classifier "
   ]
  },
  {
   "cell_type": "code",
   "execution_count": 1,
   "metadata": {
    "id": "Uvpx8vr3mzd2"
   },
   "outputs": [],
   "source": [
    "import numpy as np\n",
    "import pandas as pd\n",
    "import tensorflow as tf\n",
    "from sklearn.model_selection import train_test_split\n",
    "import matplotlib.pyplot as plt\n",
    "from matplotlib.ticker import MaxNLocator\n",
    "\n",
    "random_state = 42\n",
    "tf.random.set_seed(random_state)\n",
    "np.random.seed(random_state)"
   ]
  },
  {
   "cell_type": "code",
   "execution_count": 2,
   "metadata": {
    "colab": {
     "base_uri": "https://localhost:8080/"
    },
    "id": "_vFgANsXe7V5",
    "outputId": "89300666-271f-46dc-be78-f7a0c0dad268"
   },
   "outputs": [
    {
     "name": "stdout",
     "output_type": "stream",
     "text": [
      "X_train: (60000, 28, 28, 1), y_train: (60000, 10)\n",
      "X_test: (5000, 28, 28, 1)\n"
     ]
    }
   ],
   "source": [
    "# load data\n",
    "train = pd.read_csv('drive/MyDrive/input/Kannada-MNIST/train.csv')\n",
    "test = pd.read_csv('drive/MyDrive/input/Kannada-MNIST/test.csv', index_col='id')\n",
    "sample_submission = pd.read_csv('drive/MyDrive/input/Kannada-MNIST/sample_submission.csv')\n",
    "\n",
    "# define X_train, y_train, and X_test\n",
    "X_train = train.drop('label', axis=1)\n",
    "y_train = train['label']\n",
    "X_test = test\n",
    "\n",
    "# normalize data from 0 to 1\n",
    "X_train = X_train.astype(float)/255.\n",
    "X_test = X_test.astype(float)/255.\n",
    "\n",
    "# reshape data\n",
    "X_train = X_train.to_numpy().reshape(-1, 28, 28, 1)\n",
    "X_test = X_test.to_numpy().reshape(-1, 28, 28, 1)\n",
    "y_train = tf.keras.utils.to_categorical(y_train, num_classes=10)\n",
    "print(f'X_train: {X_train.shape}, y_train: {y_train.shape}\\nX_test: {X_test.shape}')"
   ]
  },
  {
   "cell_type": "code",
   "execution_count": 3,
   "metadata": {
    "colab": {
     "base_uri": "https://localhost:8080/"
    },
    "id": "oM5cO_1Hm10A",
    "outputId": "992f0a07-12db-4618-c1ef-9e22d698523a"
   },
   "outputs": [
    {
     "name": "stdout",
     "output_type": "stream",
     "text": [
      "X_train: (48000, 28, 28, 1), y_train: (48000, 10)\n",
      "X_val: (12000, 28, 28, 1), y_val: (12000, 10)\n"
     ]
    }
   ],
   "source": [
    "# train val split\n",
    "X_train, X_val, y_train, y_val = train_test_split(X_train, y_train, test_size=0.2, random_state=random_state)\n",
    "print(f'X_train: {X_train.shape}, y_train: {y_train.shape}\\nX_val: {X_val.shape}, y_val: {y_val.shape}')"
   ]
  },
  {
   "cell_type": "code",
   "execution_count": 4,
   "metadata": {
    "colab": {
     "base_uri": "https://localhost:8080/"
    },
    "id": "UOMvdIyE8-Mq",
    "outputId": "fa6fa679-5b2d-4983-a3e6-d92da78da01f"
   },
   "outputs": [
    {
     "name": "stdout",
     "output_type": "stream",
     "text": [
      "Model: \"encoder\"\n",
      "_________________________________________________________________\n",
      "Layer (type)                 Output Shape              Param #   \n",
      "=================================================================\n",
      "input_1 (InputLayer)         [(None, 28, 28, 1)]       0         \n",
      "_________________________________________________________________\n",
      "conv2d (Conv2D)              (None, 28, 28, 256)       2560      \n",
      "_________________________________________________________________\n",
      "batch_normalization (BatchNo (None, 28, 28, 256)       1024      \n",
      "_________________________________________________________________\n",
      "max_pooling2d (MaxPooling2D) (None, 14, 14, 256)       0         \n",
      "_________________________________________________________________\n",
      "conv2d_1 (Conv2D)            (None, 14, 14, 128)       295040    \n",
      "_________________________________________________________________\n",
      "batch_normalization_1 (Batch (None, 14, 14, 128)       512       \n",
      "_________________________________________________________________\n",
      "max_pooling2d_1 (MaxPooling2 (None, 7, 7, 128)         0         \n",
      "_________________________________________________________________\n",
      "conv2d_2 (Conv2D)            (None, 7, 7, 64)          73792     \n",
      "_________________________________________________________________\n",
      "batch_normalization_2 (Batch (None, 7, 7, 64)          256       \n",
      "_________________________________________________________________\n",
      "max_pooling2d_2 (MaxPooling2 (None, 4, 4, 64)          0         \n",
      "_________________________________________________________________\n",
      "conv2d_3 (Conv2D)            (None, 4, 4, 32)          18464     \n",
      "_________________________________________________________________\n",
      "batch_normalization_3 (Batch (None, 4, 4, 32)          128       \n",
      "_________________________________________________________________\n",
      "max_pooling2d_3 (MaxPooling2 (None, 2, 2, 32)          0         \n",
      "=================================================================\n",
      "Total params: 391,776\n",
      "Trainable params: 390,816\n",
      "Non-trainable params: 960\n",
      "_________________________________________________________________\n"
     ]
    }
   ],
   "source": [
    "# autoencoder: encoder\n",
    "input_img = tf.keras.layers.Input(shape=(28, 28, 1))\n",
    "ee = tf.keras.layers.Conv2D(256, (3, 3), padding='same', activation='relu')(input_img)\n",
    "ee = tf.keras.layers.BatchNormalization()(ee)\n",
    "ee = tf.keras.layers.MaxPooling2D((2, 2), padding='same')(ee)\n",
    "ee = tf.keras.layers.Conv2D(128, (3, 3), padding='same', activation='relu')(ee)\n",
    "ee = tf.keras.layers.BatchNormalization()(ee)\n",
    "ee = tf.keras.layers.MaxPooling2D((2, 2), padding='same')(ee)\n",
    "ee = tf.keras.layers.Conv2D(64, (3, 3), padding='same', activation='relu')(ee)\n",
    "ee = tf.keras.layers.BatchNormalization()(ee)\n",
    "ee = tf.keras.layers.MaxPooling2D((2, 2), padding='same')(ee)\n",
    "ee = tf.keras.layers.Conv2D(32, (3, 3), padding='same', activation='relu')(ee)\n",
    "ee = tf.keras.layers.BatchNormalization()(ee)\n",
    "ee = tf.keras.layers.MaxPooling2D((2, 2), padding='same')(ee)\n",
    "encoder = tf.keras.models.Model(inputs=input_img, outputs=ee, name='encoder')\n",
    "encoder.summary()"
   ]
  },
  {
   "cell_type": "code",
   "execution_count": 5,
   "metadata": {
    "colab": {
     "base_uri": "https://localhost:8080/"
    },
    "id": "2Vva9Haa9uJm",
    "outputId": "fb31abe1-a01c-4fef-8079-ecc8dfb38111"
   },
   "outputs": [
    {
     "name": "stdout",
     "output_type": "stream",
     "text": [
      "Model: \"decoder\"\n",
      "_________________________________________________________________\n",
      "Layer (type)                 Output Shape              Param #   \n",
      "=================================================================\n",
      "input_2 (InputLayer)         [(None, 2, 2, 32)]        0         \n",
      "_________________________________________________________________\n",
      "conv2d_4 (Conv2D)            (None, 2, 2, 32)          9248      \n",
      "_________________________________________________________________\n",
      "up_sampling2d (UpSampling2D) (None, 4, 4, 32)          0         \n",
      "_________________________________________________________________\n",
      "conv2d_5 (Conv2D)            (None, 4, 4, 64)          18496     \n",
      "_________________________________________________________________\n",
      "up_sampling2d_1 (UpSampling2 (None, 8, 8, 64)          0         \n",
      "_________________________________________________________________\n",
      "conv2d_6 (Conv2D)            (None, 8, 8, 128)         73856     \n",
      "_________________________________________________________________\n",
      "up_sampling2d_2 (UpSampling2 (None, 16, 16, 128)       0         \n",
      "_________________________________________________________________\n",
      "conv2d_7 (Conv2D)            (None, 14, 14, 256)       295168    \n",
      "_________________________________________________________________\n",
      "up_sampling2d_3 (UpSampling2 (None, 28, 28, 256)       0         \n",
      "_________________________________________________________________\n",
      "conv2d_8 (Conv2D)            (None, 28, 28, 1)         2305      \n",
      "=================================================================\n",
      "Total params: 399,073\n",
      "Trainable params: 399,073\n",
      "Non-trainable params: 0\n",
      "_________________________________________________________________\n"
     ]
    }
   ],
   "source": [
    "# autoencoder: decoder\n",
    "encoder_output = tf.keras.layers.Input(shape=list(encoder.output.shape)[1:])\n",
    "dd = tf.keras.layers.Conv2D(32, (3, 3), padding='same', activation='relu')(encoder_output)\n",
    "dd = tf.keras.layers.UpSampling2D((2, 2))(dd)\n",
    "dd = tf.keras.layers.Conv2D(64, (3, 3), padding='same', activation='relu')(dd)\n",
    "dd = tf.keras.layers.UpSampling2D((2, 2))(dd)\n",
    "dd = tf.keras.layers.Conv2D(128, (3, 3), padding='same', activation='relu')(dd)\n",
    "dd = tf.keras.layers.UpSampling2D((2, 2))(dd)\n",
    "dd = tf.keras.layers.Conv2D(256, (3, 3), activation='relu')(dd)\n",
    "dd = tf.keras.layers.UpSampling2D((2, 2))(dd)\n",
    "dd = tf.keras.layers.Conv2D(1, (3, 3), padding='same', activation='sigmoid')(dd)\n",
    "decoder = tf.keras.models.Model(inputs=encoder_output, outputs=dd, name='decoder')\n",
    "decoder.summary()"
   ]
  },
  {
   "cell_type": "code",
   "execution_count": 6,
   "metadata": {
    "colab": {
     "base_uri": "https://localhost:8080/"
    },
    "id": "sPM1Z5a4aG0c",
    "outputId": "724a8535-3ce1-47f7-fc7c-1f2e9f52bfd8"
   },
   "outputs": [
    {
     "name": "stdout",
     "output_type": "stream",
     "text": [
      "Model: \"ae\"\n",
      "_________________________________________________________________\n",
      "Layer (type)                 Output Shape              Param #   \n",
      "=================================================================\n",
      "input_1 (InputLayer)         [(None, 28, 28, 1)]       0         \n",
      "_________________________________________________________________\n",
      "encoder (Functional)         (None, 2, 2, 32)          391776    \n",
      "_________________________________________________________________\n",
      "decoder (Functional)         (None, 28, 28, 1)         399073    \n",
      "=================================================================\n",
      "Total params: 790,849\n",
      "Trainable params: 789,889\n",
      "Non-trainable params: 960\n",
      "_________________________________________________________________\n"
     ]
    }
   ],
   "source": [
    "# construct autoencoder\n",
    "ae = tf.keras.models.Model(inputs=input_img, outputs=decoder(encoder(input_img)), name='ae')\n",
    "ae.summary()"
   ]
  },
  {
   "cell_type": "code",
   "execution_count": 7,
   "metadata": {
    "colab": {
     "base_uri": "https://localhost:8080/"
    },
    "id": "wkpu0Dvum_ah",
    "outputId": "176e5565-08c4-49d5-949b-80f91902a508"
   },
   "outputs": [
    {
     "name": "stdout",
     "output_type": "stream",
     "text": [
      "Epoch 1/200\n",
      "1500/1500 - 14s - loss: 0.1139 - val_loss: 0.0946\n",
      "\n",
      "Epoch 00001: val_loss improved from inf to 0.09462, saving model to ae.h5\n",
      "Epoch 2/200\n",
      "1500/1500 - 12s - loss: 0.0909 - val_loss: 0.0890\n",
      "\n",
      "Epoch 00002: val_loss improved from 0.09462 to 0.08898, saving model to ae.h5\n",
      "Epoch 3/200\n",
      "1500/1500 - 11s - loss: 0.0849 - val_loss: 0.0835\n",
      "\n",
      "Epoch 00003: val_loss improved from 0.08898 to 0.08347, saving model to ae.h5\n",
      "Epoch 4/200\n",
      "1500/1500 - 11s - loss: 0.0818 - val_loss: 0.0803\n",
      "\n",
      "Epoch 00004: val_loss improved from 0.08347 to 0.08035, saving model to ae.h5\n",
      "Epoch 5/200\n",
      "1500/1500 - 11s - loss: 0.0794 - val_loss: 0.0786\n",
      "\n",
      "Epoch 00005: val_loss improved from 0.08035 to 0.07860, saving model to ae.h5\n",
      "Epoch 6/200\n",
      "1500/1500 - 11s - loss: 0.0778 - val_loss: 0.0785\n",
      "\n",
      "Epoch 00006: val_loss improved from 0.07860 to 0.07853, saving model to ae.h5\n",
      "Epoch 7/200\n",
      "1500/1500 - 11s - loss: 0.0764 - val_loss: 0.0771\n",
      "\n",
      "Epoch 00007: val_loss improved from 0.07853 to 0.07714, saving model to ae.h5\n",
      "Epoch 8/200\n",
      "1500/1500 - 12s - loss: 0.0753 - val_loss: 0.0766\n",
      "\n",
      "Epoch 00008: val_loss improved from 0.07714 to 0.07660, saving model to ae.h5\n",
      "Epoch 9/200\n",
      "1500/1500 - 11s - loss: 0.0745 - val_loss: 0.0741\n",
      "\n",
      "Epoch 00009: val_loss improved from 0.07660 to 0.07413, saving model to ae.h5\n",
      "Epoch 10/200\n",
      "1500/1500 - 11s - loss: 0.0737 - val_loss: 0.0744\n",
      "\n",
      "Epoch 00010: val_loss did not improve from 0.07413\n",
      "Epoch 11/200\n",
      "1500/1500 - 12s - loss: 0.0732 - val_loss: 0.0745\n",
      "\n",
      "Epoch 00011: val_loss did not improve from 0.07413\n",
      "Epoch 12/200\n",
      "1500/1500 - 11s - loss: 0.0724 - val_loss: 0.0737\n",
      "\n",
      "Epoch 00012: val_loss improved from 0.07413 to 0.07371, saving model to ae.h5\n",
      "Epoch 13/200\n",
      "1500/1500 - 11s - loss: 0.0719 - val_loss: 0.0736\n",
      "\n",
      "Epoch 00013: val_loss improved from 0.07371 to 0.07356, saving model to ae.h5\n",
      "Epoch 14/200\n",
      "1500/1500 - 11s - loss: 0.0714 - val_loss: 0.0714\n",
      "\n",
      "Epoch 00014: val_loss improved from 0.07356 to 0.07141, saving model to ae.h5\n",
      "Epoch 15/200\n",
      "1500/1500 - 12s - loss: 0.0709 - val_loss: 0.0732\n",
      "\n",
      "Epoch 00015: val_loss did not improve from 0.07141\n",
      "Epoch 16/200\n",
      "1500/1500 - 11s - loss: 0.0705 - val_loss: 0.0712\n",
      "\n",
      "Epoch 00016: val_loss improved from 0.07141 to 0.07121, saving model to ae.h5\n",
      "Epoch 17/200\n",
      "1500/1500 - 11s - loss: 0.0701 - val_loss: 0.0707\n",
      "\n",
      "Epoch 00017: val_loss improved from 0.07121 to 0.07072, saving model to ae.h5\n",
      "Epoch 18/200\n",
      "1500/1500 - 11s - loss: 0.0698 - val_loss: 0.0709\n",
      "\n",
      "Epoch 00018: val_loss did not improve from 0.07072\n",
      "Epoch 19/200\n",
      "1500/1500 - 11s - loss: 0.0695 - val_loss: 0.0705\n",
      "\n",
      "Epoch 00019: val_loss improved from 0.07072 to 0.07048, saving model to ae.h5\n",
      "Epoch 20/200\n",
      "1500/1500 - 12s - loss: 0.0692 - val_loss: 0.0721\n",
      "\n",
      "Epoch 00020: val_loss did not improve from 0.07048\n",
      "Epoch 21/200\n",
      "1500/1500 - 12s - loss: 0.0690 - val_loss: 0.0699\n",
      "\n",
      "Epoch 00021: val_loss improved from 0.07048 to 0.06992, saving model to ae.h5\n",
      "Epoch 22/200\n",
      "1500/1500 - 11s - loss: 0.0686 - val_loss: 0.0693\n",
      "\n",
      "Epoch 00022: val_loss improved from 0.06992 to 0.06926, saving model to ae.h5\n",
      "Epoch 23/200\n",
      "1500/1500 - 11s - loss: 0.0684 - val_loss: 0.0698\n",
      "\n",
      "Epoch 00023: val_loss did not improve from 0.06926\n",
      "Epoch 24/200\n",
      "1500/1500 - 11s - loss: 0.0682 - val_loss: 0.0690\n",
      "\n",
      "Epoch 00024: val_loss improved from 0.06926 to 0.06905, saving model to ae.h5\n",
      "Epoch 25/200\n",
      "1500/1500 - 11s - loss: 0.0679 - val_loss: 0.0688\n",
      "\n",
      "Epoch 00025: val_loss improved from 0.06905 to 0.06884, saving model to ae.h5\n",
      "Epoch 26/200\n",
      "1500/1500 - 12s - loss: 0.0678 - val_loss: 0.0690\n",
      "\n",
      "Epoch 00026: val_loss did not improve from 0.06884\n",
      "Epoch 27/200\n",
      "1500/1500 - 11s - loss: 0.0675 - val_loss: 0.0700\n",
      "\n",
      "Epoch 00027: val_loss did not improve from 0.06884\n",
      "Epoch 28/200\n",
      "1500/1500 - 11s - loss: 0.0673 - val_loss: 0.0685\n",
      "\n",
      "Epoch 00028: val_loss improved from 0.06884 to 0.06854, saving model to ae.h5\n",
      "Epoch 29/200\n",
      "1500/1500 - 11s - loss: 0.0671 - val_loss: 0.0696\n",
      "\n",
      "Epoch 00029: val_loss did not improve from 0.06854\n",
      "Epoch 30/200\n",
      "1500/1500 - 11s - loss: 0.0669 - val_loss: 0.0690\n",
      "\n",
      "Epoch 00030: val_loss did not improve from 0.06854\n",
      "Epoch 31/200\n",
      "1500/1500 - 11s - loss: 0.0668 - val_loss: 0.0688\n",
      "\n",
      "Epoch 00031: val_loss did not improve from 0.06854\n",
      "Epoch 32/200\n",
      "1500/1500 - 12s - loss: 0.0667 - val_loss: 0.0677\n",
      "\n",
      "Epoch 00032: val_loss improved from 0.06854 to 0.06767, saving model to ae.h5\n",
      "Epoch 33/200\n",
      "1500/1500 - 12s - loss: 0.0665 - val_loss: 0.0684\n",
      "\n",
      "Epoch 00033: val_loss did not improve from 0.06767\n",
      "Epoch 34/200\n",
      "1500/1500 - 12s - loss: 0.0663 - val_loss: 0.0686\n",
      "\n",
      "Epoch 00034: val_loss did not improve from 0.06767\n",
      "Epoch 35/200\n",
      "1500/1500 - 11s - loss: 0.0661 - val_loss: 0.0680\n",
      "\n",
      "Epoch 00035: val_loss did not improve from 0.06767\n",
      "Epoch 36/200\n",
      "1500/1500 - 11s - loss: 0.0660 - val_loss: 0.0675\n",
      "\n",
      "Epoch 00036: val_loss improved from 0.06767 to 0.06747, saving model to ae.h5\n",
      "Epoch 37/200\n",
      "1500/1500 - 11s - loss: 0.0660 - val_loss: 0.0673\n",
      "\n",
      "Epoch 00037: val_loss improved from 0.06747 to 0.06727, saving model to ae.h5\n",
      "Epoch 38/200\n",
      "1500/1500 - 12s - loss: 0.0657 - val_loss: 0.0676\n",
      "\n",
      "Epoch 00038: val_loss did not improve from 0.06727\n",
      "Epoch 39/200\n",
      "1500/1500 - 11s - loss: 0.0656 - val_loss: 0.0676\n",
      "\n",
      "Epoch 00039: val_loss did not improve from 0.06727\n",
      "Epoch 40/200\n",
      "1500/1500 - 12s - loss: 0.0655 - val_loss: 0.0673\n",
      "\n",
      "Epoch 00040: val_loss improved from 0.06727 to 0.06727, saving model to ae.h5\n",
      "Epoch 41/200\n",
      "1500/1500 - 11s - loss: 0.0654 - val_loss: 0.0673\n",
      "\n",
      "Epoch 00041: val_loss improved from 0.06727 to 0.06727, saving model to ae.h5\n",
      "Epoch 42/200\n",
      "1500/1500 - 12s - loss: 0.0653 - val_loss: 0.0676\n",
      "\n",
      "Epoch 00042: ReduceLROnPlateau reducing learning rate to 0.0005000000237487257.\n",
      "\n",
      "Epoch 00042: val_loss did not improve from 0.06727\n",
      "Epoch 43/200\n",
      "1500/1500 - 11s - loss: 0.0638 - val_loss: 0.0661\n",
      "\n",
      "Epoch 00043: val_loss improved from 0.06727 to 0.06609, saving model to ae.h5\n",
      "Epoch 44/200\n",
      "1500/1500 - 11s - loss: 0.0638 - val_loss: 0.0662\n",
      "\n",
      "Epoch 00044: val_loss did not improve from 0.06609\n",
      "Epoch 45/200\n",
      "1500/1500 - 11s - loss: 0.0637 - val_loss: 0.0661\n",
      "\n",
      "Epoch 00045: val_loss improved from 0.06609 to 0.06606, saving model to ae.h5\n",
      "Epoch 46/200\n",
      "1500/1500 - 11s - loss: 0.0636 - val_loss: 0.0659\n",
      "\n",
      "Epoch 00046: val_loss improved from 0.06606 to 0.06589, saving model to ae.h5\n",
      "Epoch 47/200\n",
      "1500/1500 - 11s - loss: 0.0635 - val_loss: 0.0659\n",
      "\n",
      "Epoch 00047: val_loss did not improve from 0.06589\n",
      "Epoch 48/200\n",
      "1500/1500 - 11s - loss: 0.0634 - val_loss: 0.0658\n",
      "\n",
      "Epoch 00048: val_loss improved from 0.06589 to 0.06580, saving model to ae.h5\n",
      "Epoch 49/200\n",
      "1500/1500 - 11s - loss: 0.0634 - val_loss: 0.0657\n",
      "\n",
      "Epoch 00049: val_loss improved from 0.06580 to 0.06565, saving model to ae.h5\n",
      "Epoch 50/200\n",
      "1500/1500 - 11s - loss: 0.0633 - val_loss: 0.0660\n",
      "\n",
      "Epoch 00050: val_loss did not improve from 0.06565\n",
      "Epoch 51/200\n",
      "1500/1500 - 11s - loss: 0.0632 - val_loss: 0.0659\n",
      "\n",
      "Epoch 00051: val_loss did not improve from 0.06565\n",
      "Epoch 52/200\n",
      "1500/1500 - 12s - loss: 0.0632 - val_loss: 0.0659\n",
      "\n",
      "Epoch 00052: val_loss did not improve from 0.06565\n",
      "Epoch 53/200\n",
      "1500/1500 - 11s - loss: 0.0631 - val_loss: 0.0661\n",
      "\n",
      "Epoch 00053: val_loss did not improve from 0.06565\n",
      "Epoch 54/200\n",
      "1500/1500 - 11s - loss: 0.0631 - val_loss: 0.0658\n",
      "\n",
      "Epoch 00054: ReduceLROnPlateau reducing learning rate to 0.0002500000118743628.\n",
      "\n",
      "Epoch 00054: val_loss did not improve from 0.06565\n",
      "Epoch 55/200\n",
      "1500/1500 - 11s - loss: 0.0624 - val_loss: 0.0654\n",
      "\n",
      "Epoch 00055: val_loss improved from 0.06565 to 0.06538, saving model to ae.h5\n",
      "Epoch 56/200\n",
      "1500/1500 - 11s - loss: 0.0623 - val_loss: 0.0653\n",
      "\n",
      "Epoch 00056: val_loss improved from 0.06538 to 0.06528, saving model to ae.h5\n",
      "Epoch 57/200\n",
      "1500/1500 - 11s - loss: 0.0623 - val_loss: 0.0653\n",
      "\n",
      "Epoch 00057: val_loss improved from 0.06528 to 0.06528, saving model to ae.h5\n",
      "Epoch 58/200\n",
      "1500/1500 - 11s - loss: 0.0622 - val_loss: 0.0653\n",
      "\n",
      "Epoch 00058: val_loss did not improve from 0.06528\n",
      "Epoch 59/200\n",
      "1500/1500 - 11s - loss: 0.0622 - val_loss: 0.0653\n",
      "\n",
      "Epoch 00059: val_loss improved from 0.06528 to 0.06526, saving model to ae.h5\n",
      "Epoch 60/200\n",
      "1500/1500 - 11s - loss: 0.0622 - val_loss: 0.0655\n",
      "\n",
      "Epoch 00060: val_loss did not improve from 0.06526\n",
      "Epoch 61/200\n",
      "1500/1500 - 11s - loss: 0.0621 - val_loss: 0.0652\n",
      "\n",
      "Epoch 00061: ReduceLROnPlateau reducing learning rate to 0.0001250000059371814.\n",
      "\n",
      "Epoch 00061: val_loss improved from 0.06526 to 0.06524, saving model to ae.h5\n",
      "Epoch 62/200\n",
      "1500/1500 - 11s - loss: 0.0618 - val_loss: 0.0651\n",
      "\n",
      "Epoch 00062: val_loss improved from 0.06524 to 0.06509, saving model to ae.h5\n",
      "Epoch 63/200\n",
      "1500/1500 - 12s - loss: 0.0618 - val_loss: 0.0650\n",
      "\n",
      "Epoch 00063: val_loss improved from 0.06509 to 0.06505, saving model to ae.h5\n",
      "Epoch 64/200\n",
      "1500/1500 - 12s - loss: 0.0617 - val_loss: 0.0650\n",
      "\n",
      "Epoch 00064: val_loss improved from 0.06505 to 0.06500, saving model to ae.h5\n",
      "Epoch 65/200\n",
      "1500/1500 - 12s - loss: 0.0617 - val_loss: 0.0650\n",
      "\n",
      "Epoch 00065: val_loss did not improve from 0.06500\n",
      "Epoch 66/200\n",
      "1500/1500 - 12s - loss: 0.0617 - val_loss: 0.0652\n",
      "\n",
      "Epoch 00066: val_loss did not improve from 0.06500\n",
      "Epoch 67/200\n",
      "1500/1500 - 11s - loss: 0.0617 - val_loss: 0.0651\n",
      "\n",
      "Epoch 00067: ReduceLROnPlateau reducing learning rate to 6.25000029685907e-05.\n",
      "\n",
      "Epoch 00067: val_loss did not improve from 0.06500\n",
      "Epoch 68/200\n",
      "1500/1500 - 11s - loss: 0.0615 - val_loss: 0.0650\n",
      "\n",
      "Epoch 00068: val_loss improved from 0.06500 to 0.06496, saving model to ae.h5\n",
      "Epoch 69/200\n",
      "1500/1500 - 11s - loss: 0.0615 - val_loss: 0.0650\n",
      "\n",
      "Epoch 00069: val_loss improved from 0.06496 to 0.06496, saving model to ae.h5\n",
      "Epoch 70/200\n",
      "1500/1500 - 11s - loss: 0.0615 - val_loss: 0.0651\n",
      "\n",
      "Epoch 00070: val_loss did not improve from 0.06496\n",
      "Epoch 71/200\n",
      "1500/1500 - 11s - loss: 0.0615 - val_loss: 0.0651\n",
      "\n",
      "Epoch 00071: val_loss did not improve from 0.06496\n",
      "Epoch 72/200\n",
      "1500/1500 - 11s - loss: 0.0615 - val_loss: 0.0649\n",
      "\n",
      "Epoch 00072: val_loss improved from 0.06496 to 0.06492, saving model to ae.h5\n",
      "Epoch 73/200\n",
      "1500/1500 - 11s - loss: 0.0614 - val_loss: 0.0649\n",
      "\n",
      "Epoch 00073: ReduceLROnPlateau reducing learning rate to 3.125000148429535e-05.\n",
      "\n",
      "Epoch 00073: val_loss did not improve from 0.06492\n",
      "Epoch 74/200\n",
      "1500/1500 - 11s - loss: 0.0613 - val_loss: 0.0649\n",
      "\n",
      "Epoch 00074: val_loss improved from 0.06492 to 0.06491, saving model to ae.h5\n",
      "Epoch 75/200\n",
      "1500/1500 - 12s - loss: 0.0613 - val_loss: 0.0650\n",
      "\n",
      "Epoch 00075: val_loss did not improve from 0.06491\n",
      "Epoch 76/200\n",
      "1500/1500 - 12s - loss: 0.0613 - val_loss: 0.0650\n",
      "\n",
      "Epoch 00076: val_loss did not improve from 0.06491\n",
      "Epoch 77/200\n",
      "1500/1500 - 12s - loss: 0.0613 - val_loss: 0.0649\n",
      "\n",
      "Epoch 00077: val_loss did not improve from 0.06491\n",
      "Epoch 78/200\n",
      "1500/1500 - 11s - loss: 0.0613 - val_loss: 0.0649\n",
      "\n",
      "Epoch 00078: ReduceLROnPlateau reducing learning rate to 1.5625000742147677e-05.\n",
      "\n",
      "Epoch 00078: val_loss improved from 0.06491 to 0.06491, saving model to ae.h5\n",
      "Epoch 79/200\n",
      "1500/1500 - 11s - loss: 0.0613 - val_loss: 0.0650\n",
      "\n",
      "Epoch 00079: val_loss did not improve from 0.06491\n",
      "Epoch 80/200\n",
      "1500/1500 - 11s - loss: 0.0613 - val_loss: 0.0649\n",
      "\n",
      "Epoch 00080: val_loss did not improve from 0.06491\n",
      "Epoch 81/200\n",
      "1500/1500 - 11s - loss: 0.0613 - val_loss: 0.0649\n",
      "\n",
      "Epoch 00081: val_loss did not improve from 0.06491\n",
      "Epoch 82/200\n",
      "1500/1500 - 12s - loss: 0.0613 - val_loss: 0.0649\n",
      "\n",
      "Epoch 00082: val_loss did not improve from 0.06491\n",
      "Epoch 83/200\n",
      "1500/1500 - 11s - loss: 0.0613 - val_loss: 0.0650\n",
      "\n",
      "Epoch 00083: ReduceLROnPlateau reducing learning rate to 7.812500371073838e-06.\n",
      "\n",
      "Epoch 00083: val_loss did not improve from 0.06491\n",
      "Epoch 84/200\n",
      "1500/1500 - 12s - loss: 0.0612 - val_loss: 0.0649\n",
      "\n",
      "Epoch 00084: val_loss did not improve from 0.06491\n",
      "Epoch 85/200\n",
      "1500/1500 - 11s - loss: 0.0612 - val_loss: 0.0649\n",
      "\n",
      "Epoch 00085: val_loss did not improve from 0.06491\n",
      "Epoch 86/200\n",
      "1500/1500 - 11s - loss: 0.0612 - val_loss: 0.0649\n",
      "\n",
      "Epoch 00086: val_loss did not improve from 0.06491\n",
      "Epoch 87/200\n",
      "1500/1500 - 11s - loss: 0.0612 - val_loss: 0.0649\n",
      "\n",
      "Epoch 00087: val_loss did not improve from 0.06491\n",
      "Epoch 88/200\n",
      "1500/1500 - 12s - loss: 0.0612 - val_loss: 0.0650\n",
      "\n",
      "Epoch 00088: ReduceLROnPlateau reducing learning rate to 3.906250185536919e-06.\n",
      "\n",
      "Epoch 00088: val_loss did not improve from 0.06491\n",
      "Epoch 00088: early stopping\n"
     ]
    }
   ],
   "source": [
    "# callbacks\n",
    "es = tf.keras.callbacks.EarlyStopping(monitor='val_loss', min_delta=0.0001, patience=20, verbose=1)\n",
    "\n",
    "reduce_lr = tf.keras.callbacks.ReduceLROnPlateau(monitor='val_loss', factor=0.5, \n",
    "                                                 patience=5, verbose=1, min_lr=1e-7)\n",
    "\n",
    "checkpoint = tf.keras.callbacks.ModelCheckpoint('ae.h5', monitor='val_loss', verbose=1, \n",
    "                                                save_best_only=True, save_weights_only=True)\n",
    "\n",
    "# compile and fit\n",
    "ae.compile(optimizer='adam', loss='binary_crossentropy', metrics=None)\n",
    "\n",
    "ae.fit(x=X_train, y=X_train, batch_size=None, epochs=200,\n",
    "       callbacks = [es, reduce_lr, checkpoint], \n",
    "       validation_data=(X_val, X_val), verbose=2);"
   ]
  },
  {
   "cell_type": "code",
   "execution_count": 8,
   "metadata": {
    "colab": {
     "base_uri": "https://localhost:8080/",
     "height": 294
    },
    "id": "2h6CuipBhy_X",
    "outputId": "dc6fc401-275a-4bad-8138-6dda0b6fa50c"
   },
   "outputs": [
    {
     "data": {
      "image/png": "[encoded data removed]",
      "text/plain": [
       "<Figure size 432x288 with 1 Axes>"
      ]
     },
     "metadata": {
      "needs_background": "light",
      "tags": []
     },
     "output_type": "display_data"
    }
   ],
   "source": [
    "# plot training history\n",
    "df_plot = pd.DataFrame(ae.history.history)\n",
    "fig, ax = plt.subplots()\n",
    "ax.plot(df_plot.index+1, df_plot['loss'], lw=3, label='train')\n",
    "ax.plot(df_plot.index+1, df_plot['val_loss'], lw=3, label='val')\n",
    "ax.set(xlabel='Epoch', ylabel='Loss', title='Autoencoder loss')\n",
    "ax.legend()\n",
    "plt.show()\n",
    "fig.savefig('ae_hist.pdf', format='pdf', bbox_inches='tight')"
   ]
  },
  {
   "cell_type": "code",
   "execution_count": 9,
   "metadata": {
    "colab": {
     "base_uri": "https://localhost:8080/"
    },
    "id": "vyOI1xVHc8ZV",
    "outputId": "87fca159-e308-4803-ce2c-56d8a2d03ae0"
   },
   "outputs": [
    {
     "name": "stdout",
     "output_type": "stream",
     "text": [
      "157/157 [==============================] - 1s 6ms/step - loss: 0.0662\n"
     ]
    },
    {
     "data": {
      "text/plain": [
       "0.06618504226207733"
      ]
     },
     "execution_count": 9,
     "metadata": {
      "tags": []
     },
     "output_type": "execute_result"
    }
   ],
   "source": [
    "# reload best weights and evaluate model\n",
    "ae.load_weights('ae.h5')\n",
    "ae.evaluate(X_test, X_test)"
   ]
  },
  {
   "cell_type": "code",
   "execution_count": 10,
   "metadata": {
    "colab": {
     "base_uri": "https://localhost:8080/",
     "height": 526
    },
    "id": "mZjLmOWvoamG",
    "outputId": "fc1e3de5-dfe5-4a96-cb80-ff9b381c23a2"
   },
   "outputs": [
    {
     "data": {
      "image/png": "[encoded data removed]",
      "text/plain": [
       "<Figure size 1152x576 with 30 Axes>"
      ]
     },
     "metadata": {
      "needs_background": "light",
      "tags": []
     },
     "output_type": "display_data"
    }
   ],
   "source": [
    "# visualize autoencoder output\n",
    "nn = 10 # plot first nn samples in val set\n",
    "encoded_imgs = encoder.predict(X_val)\n",
    "decoded_imgs = ae.predict(X_val)\n",
    "fig, axs = plt.subplots(3, nn, figsize=(16, 8))\n",
    "for ii in range(nn):\n",
    "    # original image\n",
    "    axs[0,ii].imshow(X_val[ii].reshape((28, 28)), cmap='gray')\n",
    "    axs[0,ii].set_title(f'original ({np.argmax(y_val[ii,])})')\n",
    "    # encoded representation reshaped as 2D\n",
    "    axs[1,ii].imshow(encoded_imgs[ii].reshape((32, -1)), cmap='gray')\n",
    "    axs[1,ii].xaxis.set_major_locator(MaxNLocator(integer=True))\n",
    "    axs[1,ii].set_title('encoded')\n",
    "    # autoencoder output\n",
    "    axs[2,ii].imshow(decoded_imgs[ii].reshape((28, 28)), cmap='gray')\n",
    "    axs[2,ii].set_title('decoded')\n",
    "fig.tight_layout()\n",
    "plt.show()\n",
    "fig.savefig('ae_output.pdf', format='pdf', bbox_inches='tight')"
   ]
  },
  {
   "cell_type": "code",
   "execution_count": 11,
   "metadata": {
    "colab": {
     "base_uri": "https://localhost:8080/"
    },
    "id": "LAV98Rq1Zodl",
    "outputId": "b80c6af0-d38a-42a8-905c-16079eeaee0d"
   },
   "outputs": [
    {
     "name": "stdout",
     "output_type": "stream",
     "text": [
      "Model: \"clf\"\n",
      "_________________________________________________________________\n",
      "Layer (type)                 Output Shape              Param #   \n",
      "=================================================================\n",
      "input_3 (InputLayer)         [(None, 2, 2, 32)]        0         \n",
      "_________________________________________________________________\n",
      "flatten (Flatten)            (None, 128)               0         \n",
      "_________________________________________________________________\n",
      "dense (Dense)                (None, 256)               33024     \n",
      "_________________________________________________________________\n",
      "dropout (Dropout)            (None, 256)               0         \n",
      "_________________________________________________________________\n",
      "dense_1 (Dense)              (None, 10)                2570      \n",
      "=================================================================\n",
      "Total params: 35,594\n",
      "Trainable params: 35,594\n",
      "Non-trainable params: 0\n",
      "_________________________________________________________________\n"
     ]
    }
   ],
   "source": [
    "# classifier\n",
    "encoder_output = tf.keras.layers.Input(shape=list(encoder.output.shape)[1:])\n",
    "fc = tf.keras.layers.Flatten()(encoder_output)\n",
    "fc = tf.keras.layers.Dense(256, activation='relu')(fc)\n",
    "fc = tf.keras.layers.Dropout(0.5)(fc)\n",
    "fc = tf.keras.layers.Dense(y_train.shape[1], activation='softmax')(fc)\n",
    "clf = tf.keras.models.Model(inputs=encoder_output, outputs=fc, name='clf')\n",
    "clf.summary()"
   ]
  },
  {
   "cell_type": "code",
   "execution_count": 12,
   "metadata": {
    "colab": {
     "base_uri": "https://localhost:8080/"
    },
    "id": "-9oNnL2AaueR",
    "outputId": "6060b5ff-9d1e-4206-9093-4f7631289efe"
   },
   "outputs": [
    {
     "name": "stdout",
     "output_type": "stream",
     "text": [
      "Model: \"model\"\n",
      "_________________________________________________________________\n",
      "Layer (type)                 Output Shape              Param #   \n",
      "=================================================================\n",
      "input_1 (InputLayer)         [(None, 28, 28, 1)]       0         \n",
      "_________________________________________________________________\n",
      "encoder (Functional)         (None, 2, 2, 32)          391776    \n",
      "_________________________________________________________________\n",
      "clf (Functional)             (None, 10)                35594     \n",
      "=================================================================\n",
      "Total params: 427,370\n",
      "Trainable params: 35,594\n",
      "Non-trainable params: 391,776\n",
      "_________________________________________________________________\n"
     ]
    }
   ],
   "source": [
    "# construct final model: encoder + classifier \n",
    "model = tf.keras.models.Model(inputs=input_img, outputs=clf(encoder(input_img)))\n",
    "# set encoder as not trainable\n",
    "model.layers[1].trainable = False\n",
    "model.summary()"
   ]
  },
  {
   "cell_type": "code",
   "execution_count": 13,
   "metadata": {
    "colab": {
     "base_uri": "https://localhost:8080/"
    },
    "id": "aZPHHYSjV2ni",
    "outputId": "f07403e5-206d-4154-a115-6986af2f9134"
   },
   "outputs": [
    {
     "name": "stdout",
     "output_type": "stream",
     "text": [
      "Epoch 1/200\n",
      "1500/1500 - 6s - loss: 0.2002 - accuracy: 0.9524 - val_loss: 0.0646 - val_accuracy: 0.9808\n",
      "\n",
      "Epoch 00001: val_loss improved from inf to 0.06456, saving model to model.h5\n",
      "Epoch 2/200\n",
      "1500/1500 - 5s - loss: 0.0686 - accuracy: 0.9796 - val_loss: 0.0431 - val_accuracy: 0.9868\n",
      "\n",
      "Epoch 00002: val_loss improved from 0.06456 to 0.04306, saving model to model.h5\n",
      "Epoch 3/200\n",
      "1500/1500 - 5s - loss: 0.0520 - accuracy: 0.9841 - val_loss: 0.0359 - val_accuracy: 0.9897\n",
      "\n",
      "Epoch 00003: val_loss improved from 0.04306 to 0.03586, saving model to model.h5\n",
      "Epoch 4/200\n",
      "1500/1500 - 5s - loss: 0.0432 - accuracy: 0.9870 - val_loss: 0.0305 - val_accuracy: 0.9902\n",
      "\n",
      "Epoch 00004: val_loss improved from 0.03586 to 0.03049, saving model to model.h5\n",
      "Epoch 5/200\n",
      "1500/1500 - 5s - loss: 0.0380 - accuracy: 0.9878 - val_loss: 0.0288 - val_accuracy: 0.9910\n",
      "\n",
      "Epoch 00005: val_loss improved from 0.03049 to 0.02884, saving model to model.h5\n",
      "Epoch 6/200\n",
      "1500/1500 - 5s - loss: 0.0331 - accuracy: 0.9895 - val_loss: 0.0253 - val_accuracy: 0.9921\n",
      "\n",
      "Epoch 00006: val_loss improved from 0.02884 to 0.02533, saving model to model.h5\n",
      "Epoch 7/200\n",
      "1500/1500 - 5s - loss: 0.0300 - accuracy: 0.9905 - val_loss: 0.0259 - val_accuracy: 0.9927\n",
      "\n",
      "Epoch 00007: val_loss did not improve from 0.02533\n",
      "Epoch 8/200\n",
      "1500/1500 - 4s - loss: 0.0273 - accuracy: 0.9915 - val_loss: 0.0261 - val_accuracy: 0.9923\n",
      "\n",
      "Epoch 00008: val_loss did not improve from 0.02533\n",
      "Epoch 9/200\n",
      "1500/1500 - 4s - loss: 0.0258 - accuracy: 0.9914 - val_loss: 0.0229 - val_accuracy: 0.9937\n",
      "\n",
      "Epoch 00009: val_loss improved from 0.02533 to 0.02287, saving model to model.h5\n",
      "Epoch 10/200\n",
      "1500/1500 - 5s - loss: 0.0234 - accuracy: 0.9924 - val_loss: 0.0214 - val_accuracy: 0.9933\n",
      "\n",
      "Epoch 00010: val_loss improved from 0.02287 to 0.02142, saving model to model.h5\n",
      "Epoch 11/200\n",
      "1500/1500 - 4s - loss: 0.0232 - accuracy: 0.9920 - val_loss: 0.0225 - val_accuracy: 0.9937\n",
      "\n",
      "Epoch 00011: val_loss did not improve from 0.02142\n",
      "Epoch 12/200\n",
      "1500/1500 - 5s - loss: 0.0208 - accuracy: 0.9931 - val_loss: 0.0224 - val_accuracy: 0.9936\n",
      "\n",
      "Epoch 00012: val_loss did not improve from 0.02142\n",
      "Epoch 13/200\n",
      "1500/1500 - 5s - loss: 0.0201 - accuracy: 0.9934 - val_loss: 0.0230 - val_accuracy: 0.9933\n",
      "\n",
      "Epoch 00013: val_loss did not improve from 0.02142\n",
      "Epoch 14/200\n",
      "1500/1500 - 4s - loss: 0.0205 - accuracy: 0.9930 - val_loss: 0.0209 - val_accuracy: 0.9933\n",
      "\n",
      "Epoch 00014: val_loss improved from 0.02142 to 0.02092, saving model to model.h5\n",
      "Epoch 15/200\n",
      "1500/1500 - 5s - loss: 0.0181 - accuracy: 0.9939 - val_loss: 0.0239 - val_accuracy: 0.9933\n",
      "\n",
      "Epoch 00015: val_loss did not improve from 0.02092\n",
      "Epoch 16/200\n",
      "1500/1500 - 4s - loss: 0.0178 - accuracy: 0.9942 - val_loss: 0.0223 - val_accuracy: 0.9935\n",
      "\n",
      "Epoch 00016: val_loss did not improve from 0.02092\n",
      "Epoch 17/200\n",
      "1500/1500 - 5s - loss: 0.0164 - accuracy: 0.9945 - val_loss: 0.0192 - val_accuracy: 0.9942\n",
      "\n",
      "Epoch 00017: val_loss improved from 0.02092 to 0.01917, saving model to model.h5\n",
      "Epoch 18/200\n",
      "1500/1500 - 5s - loss: 0.0162 - accuracy: 0.9944 - val_loss: 0.0196 - val_accuracy: 0.9942\n",
      "\n",
      "Epoch 00018: val_loss did not improve from 0.01917\n",
      "Epoch 19/200\n",
      "1500/1500 - 4s - loss: 0.0153 - accuracy: 0.9948 - val_loss: 0.0184 - val_accuracy: 0.9951\n",
      "\n",
      "Epoch 00019: val_loss improved from 0.01917 to 0.01836, saving model to model.h5\n",
      "Epoch 20/200\n",
      "1500/1500 - 4s - loss: 0.0153 - accuracy: 0.9949 - val_loss: 0.0192 - val_accuracy: 0.9945\n",
      "\n",
      "Epoch 00020: val_loss did not improve from 0.01836\n",
      "Epoch 21/200\n",
      "1500/1500 - 4s - loss: 0.0147 - accuracy: 0.9954 - val_loss: 0.0186 - val_accuracy: 0.9947\n",
      "\n",
      "Epoch 00021: val_loss did not improve from 0.01836\n",
      "Epoch 22/200\n",
      "1500/1500 - 4s - loss: 0.0144 - accuracy: 0.9951 - val_loss: 0.0194 - val_accuracy: 0.9943\n",
      "\n",
      "Epoch 00022: val_loss did not improve from 0.01836\n",
      "Epoch 23/200\n",
      "1500/1500 - 4s - loss: 0.0125 - accuracy: 0.9955 - val_loss: 0.0199 - val_accuracy: 0.9938\n",
      "\n",
      "Epoch 00023: val_loss did not improve from 0.01836\n",
      "Epoch 24/200\n",
      "1500/1500 - 4s - loss: 0.0133 - accuracy: 0.9954 - val_loss: 0.0183 - val_accuracy: 0.9947\n",
      "\n",
      "Epoch 00024: ReduceLROnPlateau reducing learning rate to 0.0005000000237487257.\n",
      "\n",
      "Epoch 00024: val_loss improved from 0.01836 to 0.01828, saving model to model.h5\n",
      "Epoch 25/200\n",
      "1500/1500 - 4s - loss: 0.0110 - accuracy: 0.9959 - val_loss: 0.0192 - val_accuracy: 0.9940\n",
      "\n",
      "Epoch 00025: val_loss did not improve from 0.01828\n",
      "Epoch 26/200\n",
      "1500/1500 - 5s - loss: 0.0097 - accuracy: 0.9968 - val_loss: 0.0190 - val_accuracy: 0.9945\n",
      "\n",
      "Epoch 00026: val_loss did not improve from 0.01828\n",
      "Epoch 27/200\n",
      "1500/1500 - 4s - loss: 0.0091 - accuracy: 0.9971 - val_loss: 0.0181 - val_accuracy: 0.9948\n",
      "\n",
      "Epoch 00027: val_loss improved from 0.01828 to 0.01814, saving model to model.h5\n",
      "Epoch 28/200\n",
      "1500/1500 - 5s - loss: 0.0083 - accuracy: 0.9970 - val_loss: 0.0187 - val_accuracy: 0.9946\n",
      "\n",
      "Epoch 00028: val_loss did not improve from 0.01814\n",
      "Epoch 29/200\n",
      "1500/1500 - 5s - loss: 0.0090 - accuracy: 0.9968 - val_loss: 0.0183 - val_accuracy: 0.9950\n",
      "\n",
      "Epoch 00029: val_loss did not improve from 0.01814\n",
      "Epoch 30/200\n",
      "1500/1500 - 5s - loss: 0.0077 - accuracy: 0.9974 - val_loss: 0.0196 - val_accuracy: 0.9951\n",
      "\n",
      "Epoch 00030: val_loss did not improve from 0.01814\n",
      "Epoch 31/200\n",
      "1500/1500 - 5s - loss: 0.0086 - accuracy: 0.9969 - val_loss: 0.0166 - val_accuracy: 0.9953\n",
      "\n",
      "Epoch 00031: val_loss improved from 0.01814 to 0.01663, saving model to model.h5\n",
      "Epoch 32/200\n",
      "1500/1500 - 4s - loss: 0.0077 - accuracy: 0.9974 - val_loss: 0.0182 - val_accuracy: 0.9951\n",
      "\n",
      "Epoch 00032: val_loss did not improve from 0.01663\n",
      "Epoch 33/200\n",
      "1500/1500 - 4s - loss: 0.0083 - accuracy: 0.9971 - val_loss: 0.0181 - val_accuracy: 0.9954\n",
      "\n",
      "Epoch 00033: val_loss did not improve from 0.01663\n",
      "Epoch 34/200\n",
      "1500/1500 - 5s - loss: 0.0072 - accuracy: 0.9976 - val_loss: 0.0186 - val_accuracy: 0.9947\n",
      "\n",
      "Epoch 00034: val_loss did not improve from 0.01663\n",
      "Epoch 35/200\n",
      "1500/1500 - 4s - loss: 0.0080 - accuracy: 0.9973 - val_loss: 0.0181 - val_accuracy: 0.9947\n",
      "\n",
      "Epoch 00035: val_loss did not improve from 0.01663\n",
      "Epoch 36/200\n",
      "1500/1500 - 4s - loss: 0.0071 - accuracy: 0.9977 - val_loss: 0.0191 - val_accuracy: 0.9948\n",
      "\n",
      "Epoch 00036: ReduceLROnPlateau reducing learning rate to 0.0002500000118743628.\n",
      "\n",
      "Epoch 00036: val_loss did not improve from 0.01663\n",
      "Epoch 37/200\n",
      "1500/1500 - 4s - loss: 0.0062 - accuracy: 0.9981 - val_loss: 0.0178 - val_accuracy: 0.9950\n",
      "\n",
      "Epoch 00037: val_loss did not improve from 0.01663\n",
      "Epoch 38/200\n",
      "1500/1500 - 4s - loss: 0.0063 - accuracy: 0.9980 - val_loss: 0.0184 - val_accuracy: 0.9952\n",
      "\n",
      "Epoch 00038: val_loss did not improve from 0.01663\n",
      "Epoch 39/200\n",
      "1500/1500 - 5s - loss: 0.0056 - accuracy: 0.9983 - val_loss: 0.0175 - val_accuracy: 0.9954\n",
      "\n",
      "Epoch 00039: val_loss did not improve from 0.01663\n",
      "Epoch 40/200\n",
      "1500/1500 - 4s - loss: 0.0054 - accuracy: 0.9983 - val_loss: 0.0183 - val_accuracy: 0.9950\n",
      "\n",
      "Epoch 00040: val_loss did not improve from 0.01663\n",
      "Epoch 41/200\n",
      "1500/1500 - 4s - loss: 0.0054 - accuracy: 0.9983 - val_loss: 0.0179 - val_accuracy: 0.9946\n",
      "\n",
      "Epoch 00041: ReduceLROnPlateau reducing learning rate to 0.0001250000059371814.\n",
      "\n",
      "Epoch 00041: val_loss did not improve from 0.01663\n",
      "Epoch 42/200\n",
      "1500/1500 - 4s - loss: 0.0052 - accuracy: 0.9984 - val_loss: 0.0177 - val_accuracy: 0.9952\n",
      "\n",
      "Epoch 00042: val_loss did not improve from 0.01663\n",
      "Epoch 43/200\n",
      "1500/1500 - 4s - loss: 0.0048 - accuracy: 0.9986 - val_loss: 0.0177 - val_accuracy: 0.9950\n",
      "\n",
      "Epoch 00043: val_loss did not improve from 0.01663\n",
      "Epoch 44/200\n",
      "1500/1500 - 4s - loss: 0.0054 - accuracy: 0.9983 - val_loss: 0.0177 - val_accuracy: 0.9953\n",
      "\n",
      "Epoch 00044: val_loss did not improve from 0.01663\n",
      "Epoch 45/200\n",
      "1500/1500 - 4s - loss: 0.0050 - accuracy: 0.9984 - val_loss: 0.0174 - val_accuracy: 0.9953\n",
      "\n",
      "Epoch 00045: val_loss did not improve from 0.01663\n",
      "Epoch 46/200\n",
      "1500/1500 - 5s - loss: 0.0046 - accuracy: 0.9985 - val_loss: 0.0176 - val_accuracy: 0.9956\n",
      "\n",
      "Epoch 00046: ReduceLROnPlateau reducing learning rate to 6.25000029685907e-05.\n",
      "\n",
      "Epoch 00046: val_loss did not improve from 0.01663\n",
      "Epoch 47/200\n",
      "1500/1500 - 4s - loss: 0.0041 - accuracy: 0.9989 - val_loss: 0.0178 - val_accuracy: 0.9952\n",
      "\n",
      "Epoch 00047: val_loss did not improve from 0.01663\n",
      "Epoch 48/200\n",
      "1500/1500 - 4s - loss: 0.0045 - accuracy: 0.9986 - val_loss: 0.0174 - val_accuracy: 0.9954\n",
      "\n",
      "Epoch 00048: val_loss did not improve from 0.01663\n",
      "Epoch 49/200\n",
      "1500/1500 - 4s - loss: 0.0045 - accuracy: 0.9986 - val_loss: 0.0175 - val_accuracy: 0.9956\n",
      "\n",
      "Epoch 00049: val_loss did not improve from 0.01663\n",
      "Epoch 50/200\n",
      "1500/1500 - 5s - loss: 0.0042 - accuracy: 0.9986 - val_loss: 0.0174 - val_accuracy: 0.9956\n",
      "\n",
      "Epoch 00050: val_loss did not improve from 0.01663\n",
      "Epoch 51/200\n",
      "1500/1500 - 5s - loss: 0.0049 - accuracy: 0.9986 - val_loss: 0.0172 - val_accuracy: 0.9958\n",
      "\n",
      "Epoch 00051: ReduceLROnPlateau reducing learning rate to 3.125000148429535e-05.\n",
      "\n",
      "Epoch 00051: val_loss did not improve from 0.01663\n",
      "Epoch 00051: early stopping\n"
     ]
    }
   ],
   "source": [
    "# callbacks\n",
    "es = tf.keras.callbacks.EarlyStopping(monitor='val_loss', patience=20, verbose=1)\n",
    "\n",
    "reduce_lr = tf.keras.callbacks.ReduceLROnPlateau(monitor='val_loss', factor=0.5, \n",
    "                                                 patience=5, verbose=1, min_lr=0)\n",
    "\n",
    "checkpoint = tf.keras.callbacks.ModelCheckpoint('model.h5', monitor='val_loss', verbose=1, \n",
    "                                                save_best_only=True, save_weights_only = True)\n",
    "\n",
    "# compile and fit\n",
    "model.compile(optimizer='adam', loss='categorical_crossentropy', metrics=['accuracy'])\n",
    "model.fit(x=X_train, y=y_train, batch_size=None, epochs=200,\n",
    "          callbacks = [es, reduce_lr, checkpoint],\n",
    "          validation_data=(X_val, y_val), verbose=2);"
   ]
  },
  {
   "cell_type": "code",
   "execution_count": 14,
   "metadata": {
    "colab": {
     "base_uri": "https://localhost:8080/",
     "height": 441
    },
    "id": "lV5lmAiMvISd",
    "outputId": "088e200f-ad13-4816-fa43-a5c010b802a1"
   },
   "outputs": [
    {
     "data": {
      "image/png": "[encoded data removed]",
      "text/plain": [
       "<Figure size 432x432 with 2 Axes>"
      ]
     },
     "metadata": {
      "needs_background": "light",
      "tags": []
     },
     "output_type": "display_data"
    }
   ],
   "source": [
    "# plot history\n",
    "df_plot = pd.DataFrame(model.history.history)\n",
    "fig, axs = plt.subplots(2,1, figsize=(6,6))\n",
    "axs[0].plot(df_plot.index+1, df_plot['loss'], lw=3, label='train')\n",
    "axs[0].plot(df_plot.index+1, df_plot['val_loss'], lw=3, label='val')\n",
    "axs[0].set(title='Model loss', ylabel='Loss')\n",
    "axs[1].plot(df_plot.index+1, df_plot['accuracy'], lw=3, label='train')\n",
    "axs[1].plot(df_plot.index+1, df_plot['val_accuracy'], lw=3, label='val')\n",
    "axs[1].set(title='Model accuracy', ylabel='Accuracy')\n",
    "for ax in axs:\n",
    "  ax.set_xlabel('Epoch')\n",
    "  ax.legend()\n",
    "fig.tight_layout()\n",
    "plt.show()\n",
    "fig.savefig('model_hist.pdf', format='pdf', bbox_inches='tight')"
   ]
  },
  {
   "cell_type": "code",
   "execution_count": 15,
   "metadata": {
    "colab": {
     "base_uri": "https://localhost:8080/"
    },
    "id": "yNetU7HenEaF",
    "outputId": "09a334c5-bd95-45bc-fb61-13d6c686387c"
   },
   "outputs": [
    {
     "name": "stdout",
     "output_type": "stream",
     "text": [
      "1500/1500 [==============================] - 5s 3ms/step - loss: 0.0025 - accuracy: 0.9994\n"
     ]
    },
    {
     "data": {
      "text/plain": [
       "[0.002513512736186385, 0.9993749856948853]"
      ]
     },
     "execution_count": 15,
     "metadata": {
      "tags": []
     },
     "output_type": "execute_result"
    }
   ],
   "source": [
    "# reload best weights and evaluate model\n",
    "model.load_weights('model.h5')\n",
    "model.evaluate(X_train, y_train)"
   ]
  },
  {
   "cell_type": "code",
   "execution_count": 16,
   "metadata": {
    "colab": {
     "base_uri": "https://localhost:8080/",
     "height": 220
    },
    "id": "TUHF5v-foL1s",
    "outputId": "94684aa0-ed20-44e2-e65f-fdc64059b9ff"
   },
   "outputs": [
    {
     "name": "stdout",
     "output_type": "stream",
     "text": [
      "157/157 [==============================] - 1s 2ms/step\n"
     ]
    },
    {
     "data": {
      "text/html": [
       "<div>\n",
       "<style scoped>\n",
       "    .dataframe tbody tr th:only-of-type {\n",
       "        vertical-align: middle;\n",
       "    }\n",
       "\n",
       "    .dataframe tbody tr th {\n",
       "        vertical-align: top;\n",
       "    }\n",
       "\n",
       "    .dataframe thead th {\n",
       "        text-align: right;\n",
       "    }\n",
       "</style>\n",
       "<table border=\"1\" class=\"dataframe\">\n",
       "  <thead>\n",
       "    <tr style=\"text-align: right;\">\n",
       "      <th></th>\n",
       "      <th>id</th>\n",
       "      <th>label</th>\n",
       "    </tr>\n",
       "  </thead>\n",
       "  <tbody>\n",
       "    <tr>\n",
       "      <th>0</th>\n",
       "      <td>0</td>\n",
       "      <td>3</td>\n",
       "    </tr>\n",
       "    <tr>\n",
       "      <th>1</th>\n",
       "      <td>1</td>\n",
       "      <td>0</td>\n",
       "    </tr>\n",
       "    <tr>\n",
       "      <th>2</th>\n",
       "      <td>2</td>\n",
       "      <td>2</td>\n",
       "    </tr>\n",
       "    <tr>\n",
       "      <th>3</th>\n",
       "      <td>3</td>\n",
       "      <td>6</td>\n",
       "    </tr>\n",
       "    <tr>\n",
       "      <th>4</th>\n",
       "      <td>4</td>\n",
       "      <td>7</td>\n",
       "    </tr>\n",
       "  </tbody>\n",
       "</table>\n",
       "</div>"
      ],
      "text/plain": [
       "   id  label\n",
       "0   0      3\n",
       "1   1      0\n",
       "2   2      2\n",
       "3   3      6\n",
       "4   4      7"
      ]
     },
     "execution_count": 16,
     "metadata": {
      "tags": []
     },
     "output_type": "execute_result"
    }
   ],
   "source": [
    "# predict\n",
    "y_pred = np.argmax(model.predict(X_test, batch_size=None, verbose=1),axis=1)\n",
    "submission = sample_submission.copy()\n",
    "submission['label'] = y_pred\n",
    "submission.head()"
   ]
  },
  {
   "cell_type": "code",
   "execution_count": 17,
   "metadata": {
    "colab": {
     "base_uri": "https://localhost:8080/"
    },
    "id": "Jz-kPNzO4yvB",
    "outputId": "0b24fede-e10e-4aa9-8197-f2bda305c495"
   },
   "outputs": [
    {
     "name": "stdout",
     "output_type": "stream",
     "text": [
      "INFO:tensorflow:Assets written to: drive/MyDrive/mod9_ae2/assets\n"
     ]
    }
   ],
   "source": [
    "submission.to_csv('submission.csv', index=False)\n",
    "model.save('drive/MyDrive/mod9_ae2')"
   ]
  }
 ],
 "metadata": {
  "accelerator": "GPU",
  "colab": {
   "collapsed_sections": [],
   "name": "mod9_ae2.ipynb",
   "provenance": []
  },
  "kernelspec": {
   "display_name": "Python 3 (ipykernel)",
   "language": "python",
   "name": "python3"
  },
  "language_info": {
   "codemirror_mode": {
    "name": "ipython",
    "version": 3
   },
   "file_extension": ".py",
   "mimetype": "text/x-python",
   "name": "python",
   "nbconvert_exporter": "python",
   "pygments_lexer": "ipython3",
   "version": "3.8.12"
  }
 },
 "nbformat": 4,
 "nbformat_minor": 1
}
